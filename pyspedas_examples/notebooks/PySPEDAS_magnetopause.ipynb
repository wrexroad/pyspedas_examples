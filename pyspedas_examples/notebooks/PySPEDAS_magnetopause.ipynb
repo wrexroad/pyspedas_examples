{
 "cells": [
  {
   "cell_type": "markdown",
   "metadata": {},
   "source": [
    "## Magnetopause Plot\n",
    "\n",
    "This example generates a plot of the magnetopause locations using either the `mpause_2` or the `mpause_t96` function from the `pyspedas.utilities` module.\n",
    "The plot includes grid, labels, and title. The x-axis is inverted to match the IDL behavior if necessary.\n",
    "\n",
    "This is similar to the IDL code `crib_magnetopause`. "
   ]
  },
  {
   "cell_type": "markdown",
   "source": [
    "The following line installs pyspedas, so this notebook can be used in Google Colab.  If you're running in an environment where pyspedas is already installed, you can comment out or skip this command."
   ],
   "metadata": {
    "collapsed": false
   }
  },
  {
   "cell_type": "code",
   "execution_count": null,
   "outputs": [],
   "source": [
    "!pip install pyspedas"
   ],
   "metadata": {
    "collapsed": false
   }
  },
  {
   "cell_type": "markdown",
   "metadata": {},
   "source": [
    "### Part 1: Magnetopause plot, using mpause_2"
   ]
  },
  {
   "cell_type": "code",
   "execution_count": 1,
   "metadata": {
    "ExecuteTime": {
     "end_time": "2023-12-27T21:33:54.492442Z",
     "start_time": "2023-12-27T21:33:53.144195Z"
    }
   },
   "outputs": [],
   "source": [
    "import matplotlib.pyplot as plt\n",
    "import pyspedas\n",
    "from pyspedas.utilities.mpause_2 import mpause_2"
   ]
  },
  {
   "cell_type": "markdown",
   "metadata": {},
   "source": [
    "Call the mpause_2 function without parameters to use default values."
   ]
  },
  {
   "cell_type": "code",
   "execution_count": null,
   "metadata": {
    "ExecuteTime": {
     "end_time": "2023-12-08T18:57:01.781003Z",
     "start_time": "2023-12-08T18:57:01.780331Z"
    }
   },
   "outputs": [],
   "source": [
    "xmp, ymp = mpause_2()"
   ]
  },
  {
   "cell_type": "markdown",
   "metadata": {},
   "source": [
    "Set the range for the axes."
   ]
  },
  {
   "cell_type": "code",
   "execution_count": null,
   "metadata": {
    "ExecuteTime": {
     "end_time": "2023-12-08T18:57:01.781133Z",
     "start_time": "2023-12-08T18:57:01.781106Z"
    }
   },
   "outputs": [],
   "source": [
    "x_limits = (-300, 100)\n",
    "y_limits = (-100, 100)"
   ]
  },
  {
   "cell_type": "markdown",
   "metadata": {},
   "source": [
    "Create the plot."
   ]
  },
  {
   "cell_type": "code",
   "execution_count": null,
   "metadata": {
    "ExecuteTime": {
     "end_time": "2023-12-08T18:57:01.782805Z",
     "start_time": "2023-12-08T18:57:01.782444Z"
    }
   },
   "outputs": [],
   "source": [
    "    plt.figure()\n",
    "    plt.plot(xmp, ymp)\n",
    "\n",
    "    # Set the limits of x and y axes\n",
    "    plt.xlim(x_limits)\n",
    "    plt.ylim(y_limits)\n",
    "\n",
    "    # Invert the x-axis to match the IDL behavior if necessary\n",
    "    plt.gca().invert_xaxis()\n",
    "\n",
    "    # Add grid, labels, and title if desired\n",
    "    plt.grid(True)\n",
    "    plt.xlabel(\"XMP\")\n",
    "    plt.ylabel(\"YMP\")\n",
    "    plt.title(\"Magnetopause Locations\")\n",
    "\n",
    "    # Display the plot\n",
    "    plt.show()"
   ]
  },
  {
   "cell_type": "markdown",
   "metadata": {},
   "source": [
    "### Part 2: Magnetopause plot, using mpause_t96"
   ]
  },
  {
   "cell_type": "code",
   "execution_count": null,
   "metadata": {
    "ExecuteTime": {
     "start_time": "2023-12-08T18:57:01.783809Z"
    }
   },
   "outputs": [],
   "source": [
    "from pyspedas.themis import state\n",
    "from pyspedas.cotrans.cotrans import cotrans\n",
    "from pyspedas.utilities.mpause_t96 import mpause_t96\n",
    "import matplotlib.pyplot as plt\n",
    "from pytplot import get_data"
   ]
  },
  {
   "cell_type": "markdown",
   "metadata": {},
   "source": [
    "Set the date and load one day of position data from THEMIS thd probe. \n",
    "The position is in GEI coordinate system, transform it to GSM using the function cotrans.\n",
    "Convert the GSM position from kilometers to Earth radii units."
   ]
  },
  {
   "cell_type": "code",
   "execution_count": null,
   "metadata": {
    "ExecuteTime": {
     "start_time": "2023-12-08T18:57:01.784955Z"
    }
   },
   "outputs": [],
   "source": [
    "\n",
    "date_start = '2019-01-05/00:00:00'\n",
    "date_end = '2019-01-06/00:00:00'\n",
    "\n",
    "state(trange=[date_start, date_end], probe='d', get_support_data=True)\n",
    "\n",
    "cotrans(name_in='thd_pos', name_out='thd_pos_gsm', coord_in='gei', coord_out='gsm')\n",
    "\n",
    "pos_gsm_data = get_data('thd_pos_gsm')\n",
    "\n",
    "re = 6378.0\n",
    "pos_gsm = pos_gsm_data.y / re"
   ]
  },
  {
   "cell_type": "markdown",
   "metadata": {},
   "source": [
    "Set a value for the solar wind dynamic pressure.\n",
    "Call the mpause_t96 function with the position data."
   ]
  },
  {
   "cell_type": "code",
   "execution_count": null,
   "metadata": {
    "ExecuteTime": {
     "start_time": "2023-12-08T18:57:01.785850Z"
    }
   },
   "outputs": [],
   "source": [
    "dynp = 2.0\n",
    "\n",
    "xmgnp, ymgnp, zmgnp, id, distan = mpause_t96(\n",
    "        pd=dynp, xgsm=pos_gsm[:, 0], ygsm=pos_gsm[:, 1], zgsm=pos_gsm[:, 2])"
   ]
  },
  {
   "cell_type": "markdown",
   "metadata": {},
   "source": [
    "Plot the magnetopause. \n",
    "  "
   ]
  },
  {
   "cell_type": "code",
   "execution_count": null,
   "metadata": {
    "ExecuteTime": {
     "start_time": "2023-12-08T18:57:01.787004Z"
    }
   },
   "outputs": [],
   "source": [
    "plt.figure()\n",
    "plt.plot(xmgnp, ymgnp)\n",
    "plt.xlim(20, -60)\n",
    "plt.ylim(-30, 30)\n",
    "plt.xlabel('X (Re)')\n",
    "plt.ylabel('Y (Re)')\n",
    "plt.title('Magnetopause Boundary')\n",
    "plt.grid(True)\n",
    "plt.show()"
   ]
  }
 ],
 "metadata": {
  "kernelspec": {
   "display_name": "Python 3",
   "language": "python",
   "name": "python3"
  },
  "language_info": {
   "codemirror_mode": {
    "name": "ipython",
    "version": 3
   },
   "file_extension": ".py",
   "mimetype": "text/x-python",
   "name": "python",
   "nbconvert_exporter": "python",
   "pygments_lexer": "ipython3",
   "version": "3.11.6"
  }
 },
 "nbformat": 4,
 "nbformat_minor": 4
}
