{
 "nbformat": 4,
 "nbformat_minor": 0,
 "metadata": {
  "colab": {
   "provenance": [],
   "toc_visible": true
  },
  "kernelspec": {
   "name": "python3",
   "language": "python",
   "display_name": "Python 3 (ipykernel)"
  },
  "language_info": {
   "name": "python"
  }
 },
 "cells": [
  {
   "cell_type": "markdown",
   "source": [
    "# Introduction to PyTplot\n",
    "\n",
    "This notebook demonstrates how to work with time series data using the `matplotlib` version of PyTplot. \n",
    "\n",
    "We'll install PySPEDAS to get PyTplot (as well as some load routines for quickly accessing some data, and additional tools for working with `tplot` variables). If you would like to install the `matplotlib` version of PyTplot without installing PySPEDAS, you can do so with:\n",
    "\n",
    "`pip install pytplot-mpl-temp`"
   ],
   "metadata": {
    "id": "biQtjThm7wba"
   }
  },
  {
   "cell_type": "markdown",
   "source": [
    "The following line installs pyspedas, so this notebook can be used in Google Colab.  If you're running in an environment where pyspedas is already installed, you can comment out or skip this command."
   ],
   "metadata": {
    "collapsed": false
   }
  },
  {
   "cell_type": "code",
   "execution_count": 1,
   "metadata": {
    "id": "DMRu_5HWyeNh",
    "ExecuteTime": {
     "end_time": "2024-02-20T07:21:32.807426Z",
     "start_time": "2024-02-20T07:21:31.963574Z"
    }
   },
   "outputs": [
    {
     "name": "stdout",
     "output_type": "stream",
     "text": [
      "Requirement already satisfied: pyspedas in /Users/jwl/PycharmProjects/pyspedas_examples/venv/lib/python3.9/site-packages (1.5.6)\r\n",
      "Requirement already satisfied: cdasws>=1.7.24 in /Users/jwl/PycharmProjects/pyspedas_examples/venv/lib/python3.9/site-packages (from pyspedas) (1.7.43)\r\n",
      "Requirement already satisfied: scipy in /Users/jwl/PycharmProjects/pyspedas_examples/venv/lib/python3.9/site-packages (from pyspedas) (1.11.3)\r\n",
      "Requirement already satisfied: pywavelets in /Users/jwl/PycharmProjects/pyspedas_examples/venv/lib/python3.9/site-packages (from pyspedas) (1.4.1)\r\n",
      "Requirement already satisfied: astropy in /Users/jwl/PycharmProjects/pyspedas_examples/venv/lib/python3.9/site-packages (from pyspedas) (5.3.4)\r\n",
      "Requirement already satisfied: numpy>=1.19.5 in /Users/jwl/PycharmProjects/pyspedas_examples/venv/lib/python3.9/site-packages (from pyspedas) (1.26.0)\r\n",
      "Requirement already satisfied: pytplot-mpl-temp>=2.2.6 in /Users/jwl/PycharmProjects/pyspedas_examples/venv/lib/python3.9/site-packages (from pyspedas) (2.2.6)\r\n",
      "Requirement already satisfied: hapiclient>=0.2.2 in /Users/jwl/PycharmProjects/pyspedas_examples/venv/lib/python3.9/site-packages (from pyspedas) (0.2.5)\r\n",
      "Requirement already satisfied: cdflib<1.0.0 in /Users/jwl/PycharmProjects/pyspedas_examples/venv/lib/python3.9/site-packages (from pyspedas) (0.4.9)\r\n",
      "Requirement already satisfied: geopack>=1.0.10 in /Users/jwl/PycharmProjects/pyspedas_examples/venv/lib/python3.9/site-packages (from pyspedas) (1.0.10)\r\n",
      "Requirement already satisfied: requests in /Users/jwl/PycharmProjects/pyspedas_examples/venv/lib/python3.9/site-packages (from pyspedas) (2.31.0)\r\n",
      "Requirement already satisfied: netCDF4>=1.6.2 in /Users/jwl/PycharmProjects/pyspedas_examples/venv/lib/python3.9/site-packages (from pyspedas) (1.6.4)\r\n",
      "Requirement already satisfied: viresclient in /Users/jwl/PycharmProjects/pyspedas_examples/venv/lib/python3.9/site-packages (from pyspedas) (0.11.3)\r\n",
      "Requirement already satisfied: python-dateutil>=2.8.0 in /Users/jwl/PycharmProjects/pyspedas_examples/venv/lib/python3.9/site-packages (from cdasws>=1.7.24->pyspedas) (2.8.2)\r\n",
      "Requirement already satisfied: joblib in /Users/jwl/PycharmProjects/pyspedas_examples/venv/lib/python3.9/site-packages (from hapiclient>=0.2.2->pyspedas) (1.3.2)\r\n",
      "Requirement already satisfied: isodate>=0.6.0 in /Users/jwl/PycharmProjects/pyspedas_examples/venv/lib/python3.9/site-packages (from hapiclient>=0.2.2->pyspedas) (0.6.1)\r\n",
      "Requirement already satisfied: urllib3 in /Users/jwl/PycharmProjects/pyspedas_examples/venv/lib/python3.9/site-packages (from hapiclient>=0.2.2->pyspedas) (2.0.6)\r\n",
      "Requirement already satisfied: pandas>=0.23 in /Users/jwl/PycharmProjects/pyspedas_examples/venv/lib/python3.9/site-packages (from hapiclient>=0.2.2->pyspedas) (2.1.1)\r\n",
      "Requirement already satisfied: cftime in /Users/jwl/PycharmProjects/pyspedas_examples/venv/lib/python3.9/site-packages (from netCDF4>=1.6.2->pyspedas) (1.6.2)\r\n",
      "Requirement already satisfied: certifi in /Users/jwl/PycharmProjects/pyspedas_examples/venv/lib/python3.9/site-packages (from netCDF4>=1.6.2->pyspedas) (2023.7.22)\r\n",
      "Requirement already satisfied: matplotlib>=3.4 in /Users/jwl/PycharmProjects/pyspedas_examples/venv/lib/python3.9/site-packages (from pytplot-mpl-temp>=2.2.6->pyspedas) (3.8.0)\r\n",
      "Requirement already satisfied: xarray in /Users/jwl/PycharmProjects/pyspedas_examples/venv/lib/python3.9/site-packages (from pytplot-mpl-temp>=2.2.6->pyspedas) (2023.9.0)\r\n",
      "Requirement already satisfied: charset-normalizer<4,>=2 in /Users/jwl/PycharmProjects/pyspedas_examples/venv/lib/python3.9/site-packages (from requests->pyspedas) (3.3.0)\r\n",
      "Requirement already satisfied: idna<4,>=2.5 in /Users/jwl/PycharmProjects/pyspedas_examples/venv/lib/python3.9/site-packages (from requests->pyspedas) (3.4)\r\n",
      "Requirement already satisfied: pyerfa>=2.0 in /Users/jwl/PycharmProjects/pyspedas_examples/venv/lib/python3.9/site-packages (from astropy->pyspedas) (2.0.0.3)\r\n",
      "Requirement already satisfied: PyYAML>=3.13 in /Users/jwl/PycharmProjects/pyspedas_examples/venv/lib/python3.9/site-packages (from astropy->pyspedas) (6.0.1)\r\n",
      "Requirement already satisfied: packaging>=19.0 in /Users/jwl/PycharmProjects/pyspedas_examples/venv/lib/python3.9/site-packages (from astropy->pyspedas) (23.2)\r\n",
      "Requirement already satisfied: tqdm>=4.23.0 in /Users/jwl/PycharmProjects/pyspedas_examples/venv/lib/python3.9/site-packages (from viresclient->pyspedas) (4.66.1)\r\n",
      "Requirement already satisfied: tables>=3.4.4 in /Users/jwl/PycharmProjects/pyspedas_examples/venv/lib/python3.9/site-packages (from viresclient->pyspedas) (3.7.0)\r\n",
      "Requirement already satisfied: Jinja2>=2.10 in /Users/jwl/PycharmProjects/pyspedas_examples/venv/lib/python3.9/site-packages (from viresclient->pyspedas) (3.1.2)\r\n",
      "Requirement already satisfied: six in /Users/jwl/PycharmProjects/pyspedas_examples/venv/lib/python3.9/site-packages (from isodate>=0.6.0->hapiclient>=0.2.2->pyspedas) (1.16.0)\r\n",
      "Requirement already satisfied: MarkupSafe>=2.0 in /Users/jwl/PycharmProjects/pyspedas_examples/venv/lib/python3.9/site-packages (from Jinja2>=2.10->viresclient->pyspedas) (2.1.3)\r\n",
      "Requirement already satisfied: fonttools>=4.22.0 in /Users/jwl/PycharmProjects/pyspedas_examples/venv/lib/python3.9/site-packages (from matplotlib>=3.4->pytplot-mpl-temp>=2.2.6->pyspedas) (4.43.0)\r\n",
      "Requirement already satisfied: importlib-resources>=3.2.0 in /Users/jwl/PycharmProjects/pyspedas_examples/venv/lib/python3.9/site-packages (from matplotlib>=3.4->pytplot-mpl-temp>=2.2.6->pyspedas) (6.1.0)\r\n",
      "Requirement already satisfied: kiwisolver>=1.0.1 in /Users/jwl/PycharmProjects/pyspedas_examples/venv/lib/python3.9/site-packages (from matplotlib>=3.4->pytplot-mpl-temp>=2.2.6->pyspedas) (1.4.5)\r\n",
      "Requirement already satisfied: pyparsing>=2.3.1 in /Users/jwl/PycharmProjects/pyspedas_examples/venv/lib/python3.9/site-packages (from matplotlib>=3.4->pytplot-mpl-temp>=2.2.6->pyspedas) (3.1.1)\r\n",
      "Requirement already satisfied: contourpy>=1.0.1 in /Users/jwl/PycharmProjects/pyspedas_examples/venv/lib/python3.9/site-packages (from matplotlib>=3.4->pytplot-mpl-temp>=2.2.6->pyspedas) (1.1.1)\r\n",
      "Requirement already satisfied: pillow>=6.2.0 in /Users/jwl/PycharmProjects/pyspedas_examples/venv/lib/python3.9/site-packages (from matplotlib>=3.4->pytplot-mpl-temp>=2.2.6->pyspedas) (10.0.1)\r\n",
      "Requirement already satisfied: cycler>=0.10 in /Users/jwl/PycharmProjects/pyspedas_examples/venv/lib/python3.9/site-packages (from matplotlib>=3.4->pytplot-mpl-temp>=2.2.6->pyspedas) (0.12.0)\r\n",
      "Requirement already satisfied: pytz>=2020.1 in /Users/jwl/PycharmProjects/pyspedas_examples/venv/lib/python3.9/site-packages (from pandas>=0.23->hapiclient>=0.2.2->pyspedas) (2023.3.post1)\r\n",
      "Requirement already satisfied: tzdata>=2022.1 in /Users/jwl/PycharmProjects/pyspedas_examples/venv/lib/python3.9/site-packages (from pandas>=0.23->hapiclient>=0.2.2->pyspedas) (2023.3)\r\n",
      "Requirement already satisfied: numexpr>=2.6.2 in /Users/jwl/PycharmProjects/pyspedas_examples/venv/lib/python3.9/site-packages (from tables>=3.4.4->viresclient->pyspedas) (2.8.7)\r\n",
      "Requirement already satisfied: zipp>=3.1.0 in /Users/jwl/PycharmProjects/pyspedas_examples/venv/lib/python3.9/site-packages (from importlib-resources>=3.2.0->matplotlib>=3.4->pytplot-mpl-temp>=2.2.6->pyspedas) (3.17.0)\r\n",
      "\r\n",
      "\u001B[1m[\u001B[0m\u001B[34;49mnotice\u001B[0m\u001B[1;39;49m]\u001B[0m\u001B[39;49m A new release of pip available: \u001B[0m\u001B[31;49m22.3.1\u001B[0m\u001B[39;49m -> \u001B[0m\u001B[32;49m24.0\u001B[0m\r\n",
      "\u001B[1m[\u001B[0m\u001B[34;49mnotice\u001B[0m\u001B[1;39;49m]\u001B[0m\u001B[39;49m To update, run: \u001B[0m\u001B[32;49mpip install --upgrade pip\u001B[0m\r\n"
     ]
    }
   ],
   "source": [
    "!pip install pyspedas"
   ]
  },
  {
   "cell_type": "markdown",
   "source": [
    "If you're working in Google Colab, you'll need to restart the runtime after installing PyTplot using `exit()` or using the menu at: \"Runtime\" -> \"Restart Runtime\".\n",
    "\n",
    "This is because we require a newer version of `matplotlib` than the one that comes pre-installed with Colab (due to a spectrogram bug)"
   ],
   "metadata": {
    "id": "bbvs6NLJ-8Ny"
   }
  },
  {
   "cell_type": "code",
   "source": [
    "exit()"
   ],
   "metadata": {
    "id": "ZFsKW2mY_J3w",
    "ExecuteTime": {
     "end_time": "2024-02-20T07:21:32.811715Z",
     "start_time": "2024-02-20T07:21:32.808488Z"
    }
   },
   "execution_count": 2,
   "outputs": []
  },
  {
   "cell_type": "markdown",
   "source": [
    "## Load some data\n",
    "\n",
    "We'll use MMS FPI ion data as an example; this is a good case to show because the data includes multi-dimensional distribution function data"
   ],
   "metadata": {
    "id": "k0jqPZJZyuwj"
   }
  },
  {
   "cell_type": "code",
   "source": [
    "import pyspedas\n",
    "\n",
    "pyspedas.mms.fpi(trange=['2015-10-16/13:05', '2015-10-16/13:06'],\n",
    "                 data_rate='brst',\n",
    "                 datatype=['dis-dist', 'dis-moms'])"
   ],
   "metadata": {
    "id": "w48mm9QPyjj1",
    "ExecuteTime": {
     "end_time": "2024-02-20T07:21:41.938757Z",
     "start_time": "2024-02-20T07:21:32.811038Z"
    }
   },
   "execution_count": 3,
   "outputs": [
    {
     "name": "stderr",
     "output_type": "stream",
     "text": [
      "19-Feb-24 23:21:36: Loading pydata/mms1/fpi/brst/l2/dis-dist/2015/10/16/mms1_fpi_brst_l2_dis-dist_20151016130334_v3.3.0.cdf\n",
      "19-Feb-24 23:21:36: Loading pydata/mms1/fpi/brst/l2/dis-dist/2015/10/16/mms1_fpi_brst_l2_dis-dist_20151016130524_v3.3.0.cdf\n",
      "19-Feb-24 23:21:36: Loading pydata/mms1/fpi/brst/l2/dis-moms/2015/10/16/mms1_fpi_brst_l2_dis-moms_20151016130334_v3.3.0.cdf\n",
      "19-Feb-24 23:21:36: Loading pydata/mms1/fpi/brst/l2/dis-moms/2015/10/16/mms1_fpi_brst_l2_dis-moms_20151016130524_v3.3.0.cdf\n",
      "19-Feb-24 23:21:39: Loading pydata/mms1/fpi/brst/l2/dis-moms/2015/10/16/mms1_fpi_brst_l2_dis-moms_20151016130334_v3.3.0.cdf\n",
      "19-Feb-24 23:21:39: Loading pydata/mms1/fpi/brst/l2/dis-moms/2015/10/16/mms1_fpi_brst_l2_dis-moms_20151016130524_v3.3.0.cdf\n",
      "19-Feb-24 23:21:41: Loading pydata/mms1/fpi/brst/l2/dis-dist/2015/10/16/mms1_fpi_brst_l2_dis-dist_20151016130334_v3.3.0.cdf\n",
      "19-Feb-24 23:21:41: Loading pydata/mms1/fpi/brst/l2/dis-dist/2015/10/16/mms1_fpi_brst_l2_dis-dist_20151016130524_v3.3.0.cdf\n",
      "19-Feb-24 23:21:41: The name mms1_dis_pitchangdist_lowen_brst is currently not in pytplot\n",
      "19-Feb-24 23:21:41: The name mms1_dis_pitchangdist_miden_brst is currently not in pytplot\n",
      "19-Feb-24 23:21:41: The name mms1_dis_pitchangdist_highen_brst is currently not in pytplot\n",
      "19-Feb-24 23:21:41: The name mms1_des_compressionloss_brst_moms is currently not in pytplot\n",
      "19-Feb-24 23:21:41: The name mms1_des_compressionloss_brst_moms is currently not in pytplot\n",
      "19-Feb-24 23:21:41: Problem reading the variable: mms1_des_compressionloss_brst_moms\n",
      "19-Feb-24 23:21:41: The name mms1_des_compressionloss_brst_dist is currently not in pytplot\n",
      "19-Feb-24 23:21:41: The name mms1_des_compressionloss_brst_dist is currently not in pytplot\n",
      "19-Feb-24 23:21:41: Problem reading the variable: mms1_des_compressionloss_brst_dist\n",
      "19-Feb-24 23:21:41: The name mms1_dis_pitchangdist_lowen_brst is currently not in pytplot\n",
      "19-Feb-24 23:21:41: The name mms1_dis_pitchangdist_miden_brst is currently not in pytplot\n",
      "19-Feb-24 23:21:41: The name mms1_dis_pitchangdist_highen_brst is currently not in pytplot\n",
      "19-Feb-24 23:21:41: The name mms1_des_compressionloss_brst_moms is currently not in pytplot\n",
      "19-Feb-24 23:21:41: The name mms1_des_compressionloss_brst_moms is currently not in pytplot\n",
      "19-Feb-24 23:21:41: Problem reading the variable: mms1_des_compressionloss_brst_moms\n",
      "19-Feb-24 23:21:41: The name mms1_des_compressionloss_brst_dist is currently not in pytplot\n",
      "19-Feb-24 23:21:41: The name mms1_des_compressionloss_brst_dist is currently not in pytplot\n",
      "19-Feb-24 23:21:41: Problem reading the variable: mms1_des_compressionloss_brst_dist\n",
      "19-Feb-24 23:21:41: Loaded variables:\n",
      "19-Feb-24 23:21:41: Epoch\n",
      "19-Feb-24 23:21:41: Epoch_plus_var\n",
      "19-Feb-24 23:21:41: Epoch_minus_var\n",
      "19-Feb-24 23:21:41: mms1_dis_errorflags_brst\n",
      "19-Feb-24 23:21:41: mms1_dis_compressionloss_brst\n",
      "19-Feb-24 23:21:41: mms1_dis_steptable_parity_brst\n",
      "19-Feb-24 23:21:41: mms1_dis_startdelphi_count_brst\n",
      "19-Feb-24 23:21:41: mms1_dis_startdelphi_angle_brst\n",
      "19-Feb-24 23:21:41: mms1_dis_phi_brst\n",
      "19-Feb-24 23:21:41: mms1_dis_phi_delta_brst\n",
      "19-Feb-24 23:21:41: mms1_dis_dist_brst\n",
      "19-Feb-24 23:21:41: mms1_dis_disterr_brst\n",
      "19-Feb-24 23:21:41: mms1_dis_sector_despinp_brst\n",
      "19-Feb-24 23:21:41: mms1_dis_theta_brst\n",
      "19-Feb-24 23:21:41: mms1_dis_theta_delta_brst\n",
      "19-Feb-24 23:21:41: mms1_dis_energy_brst\n",
      "19-Feb-24 23:21:41: mms1_dis_energy_delta_brst\n",
      "19-Feb-24 23:21:41: mms1_dis_energyspectr_px_brst\n",
      "19-Feb-24 23:21:41: mms1_dis_energyspectr_mx_brst\n",
      "19-Feb-24 23:21:41: mms1_dis_energyspectr_py_brst\n",
      "19-Feb-24 23:21:41: mms1_dis_energyspectr_my_brst\n",
      "19-Feb-24 23:21:41: mms1_dis_energyspectr_pz_brst\n",
      "19-Feb-24 23:21:41: mms1_dis_energyspectr_mz_brst\n",
      "19-Feb-24 23:21:41: mms1_dis_energyspectr_omni_brst\n",
      "19-Feb-24 23:21:41: mms1_dis_spectr_bg_brst\n",
      "19-Feb-24 23:21:41: mms1_dis_numberdensity_bg_brst\n",
      "19-Feb-24 23:21:41: mms1_dis_numberdensity_brst\n",
      "19-Feb-24 23:21:41: mms1_dis_numberdensity_err_brst\n",
      "19-Feb-24 23:21:41: mms1_dis_densityextrapolation_low_brst\n",
      "19-Feb-24 23:21:41: mms1_dis_densityextrapolation_high_brst\n",
      "19-Feb-24 23:21:41: mms1_dis_bulkv_dbcs_brst\n",
      "19-Feb-24 23:21:41: mms1_dis_bulkv_spintone_dbcs_brst\n",
      "19-Feb-24 23:21:41: mms1_dis_bulkv_gse_brst\n",
      "19-Feb-24 23:21:41: mms1_dis_bulkv_spintone_gse_brst\n",
      "19-Feb-24 23:21:41: mms1_dis_bulkv_err_brst\n",
      "19-Feb-24 23:21:41: mms1_dis_prestensor_dbcs_brst\n",
      "19-Feb-24 23:21:41: mms1_dis_prestensor_gse_brst\n",
      "19-Feb-24 23:21:41: mms1_dis_prestensor_err_brst\n",
      "19-Feb-24 23:21:41: mms1_dis_pres_bg_brst\n",
      "19-Feb-24 23:21:41: mms1_dis_temptensor_dbcs_brst\n",
      "19-Feb-24 23:21:41: mms1_dis_temptensor_gse_brst\n",
      "19-Feb-24 23:21:41: mms1_dis_temptensor_err_brst\n",
      "19-Feb-24 23:21:41: mms1_dis_heatq_dbcs_brst\n",
      "19-Feb-24 23:21:41: mms1_dis_heatq_gse_brst\n",
      "19-Feb-24 23:21:41: mms1_dis_heatq_err_brst\n",
      "19-Feb-24 23:21:41: mms1_dis_temppara_brst\n",
      "19-Feb-24 23:21:41: mms1_dis_tempperp_brst\n",
      "19-Feb-24 23:21:41: mms1_dis_errorflags_brst_moms\n",
      "19-Feb-24 23:21:41: mms1_dis_compressionloss_brst_moms\n",
      "19-Feb-24 23:21:41: mms1_dis_errorflags_brst_dist\n",
      "19-Feb-24 23:21:41: mms1_dis_compressionloss_brst_dist\n",
      "19-Feb-24 23:21:41: mms1_dis_errorflags_brst_dist_flagbars_dist\n",
      "19-Feb-24 23:21:41: mms1_dis_compressionloss_brst_moms_flagbars\n",
      "19-Feb-24 23:21:41: mms1_dis_compressionloss_brst_dist_flagbars\n",
      "19-Feb-24 23:21:41: mms1_dis_errorflags_brst_moms_flagbars_full\n",
      "19-Feb-24 23:21:41: mms1_dis_errorflags_brst_moms_flagbars_main\n",
      "19-Feb-24 23:21:41: mms1_dis_errorflags_brst_moms_flagbars_others\n",
      "19-Feb-24 23:21:41: mms1_dis_errorflags_brst_moms_flagbars_mini\n",
      "19-Feb-24 23:21:41: mms1_dis_compressionloss_brst_moms_flagbars\n",
      "19-Feb-24 23:21:41: mms1_dis_compressionloss_brst_dist_flagbars\n"
     ]
    },
    {
     "data": {
      "text/plain": "['Epoch',\n 'Epoch_plus_var',\n 'Epoch_minus_var',\n 'mms1_dis_errorflags_brst',\n 'mms1_dis_compressionloss_brst',\n 'mms1_dis_steptable_parity_brst',\n 'mms1_dis_startdelphi_count_brst',\n 'mms1_dis_startdelphi_angle_brst',\n 'mms1_dis_phi_brst',\n 'mms1_dis_phi_delta_brst',\n 'mms1_dis_dist_brst',\n 'mms1_dis_disterr_brst',\n 'mms1_dis_sector_despinp_brst',\n 'mms1_dis_theta_brst',\n 'mms1_dis_theta_delta_brst',\n 'mms1_dis_energy_brst',\n 'mms1_dis_energy_delta_brst',\n 'mms1_dis_energyspectr_px_brst',\n 'mms1_dis_energyspectr_mx_brst',\n 'mms1_dis_energyspectr_py_brst',\n 'mms1_dis_energyspectr_my_brst',\n 'mms1_dis_energyspectr_pz_brst',\n 'mms1_dis_energyspectr_mz_brst',\n 'mms1_dis_energyspectr_omni_brst',\n 'mms1_dis_spectr_bg_brst',\n 'mms1_dis_numberdensity_bg_brst',\n 'mms1_dis_numberdensity_brst',\n 'mms1_dis_numberdensity_err_brst',\n 'mms1_dis_densityextrapolation_low_brst',\n 'mms1_dis_densityextrapolation_high_brst',\n 'mms1_dis_bulkv_dbcs_brst',\n 'mms1_dis_bulkv_spintone_dbcs_brst',\n 'mms1_dis_bulkv_gse_brst',\n 'mms1_dis_bulkv_spintone_gse_brst',\n 'mms1_dis_bulkv_err_brst',\n 'mms1_dis_prestensor_dbcs_brst',\n 'mms1_dis_prestensor_gse_brst',\n 'mms1_dis_prestensor_err_brst',\n 'mms1_dis_pres_bg_brst',\n 'mms1_dis_temptensor_dbcs_brst',\n 'mms1_dis_temptensor_gse_brst',\n 'mms1_dis_temptensor_err_brst',\n 'mms1_dis_heatq_dbcs_brst',\n 'mms1_dis_heatq_gse_brst',\n 'mms1_dis_heatq_err_brst',\n 'mms1_dis_temppara_brst',\n 'mms1_dis_tempperp_brst',\n 'mms1_dis_errorflags_brst_moms',\n 'mms1_dis_compressionloss_brst_moms',\n 'mms1_dis_errorflags_brst_dist',\n 'mms1_dis_compressionloss_brst_dist',\n 'mms1_dis_errorflags_brst_dist_flagbars_dist',\n 'mms1_dis_compressionloss_brst_moms_flagbars',\n 'mms1_dis_compressionloss_brst_dist_flagbars',\n 'mms1_dis_errorflags_brst_moms_flagbars_full',\n 'mms1_dis_errorflags_brst_moms_flagbars_main',\n 'mms1_dis_errorflags_brst_moms_flagbars_others',\n 'mms1_dis_errorflags_brst_moms_flagbars_mini',\n 'mms1_dis_compressionloss_brst_moms_flagbars',\n 'mms1_dis_compressionloss_brst_dist_flagbars']"
     },
     "execution_count": 3,
     "metadata": {},
     "output_type": "execute_result"
    }
   ]
  },
  {
   "cell_type": "markdown",
   "source": [
    "## Plot some variables\n",
    "\n",
    "The data are now loaded into `tplot` variables (the `t` stands for `timeseries`!); You can plot them with `tplot`:"
   ],
   "metadata": {
    "id": "urQJI1HFFRcA"
   }
  },
  {
   "cell_type": "code",
   "source": [
    "from pytplot import tplot\n",
    "\n",
    "tplot(['mms1_dis_bulkv_gse_brst', 'mms1_dis_energyspectr_omni_brst'])"
   ],
   "metadata": {
    "colab": {
     "base_uri": "https://localhost:8080/",
     "height": 336
    },
    "id": "E7tBiFNOFTeT",
    "outputId": "3dddd649-731a-49ec-8c80-68b21865396c",
    "is_executing": true
   },
   "execution_count": null,
   "outputs": []
  },
  {
   "cell_type": "markdown",
   "source": [
    "## Access the data and time values"
   ],
   "metadata": {
    "id": "uXcKIzFC2I0p"
   }
  },
  {
   "cell_type": "markdown",
   "source": [
    "You can access the data using `get_data`:"
   ],
   "metadata": {
    "id": "LTIXcD14zE7_"
   }
  },
  {
   "cell_type": "code",
   "source": [
    "from pytplot import get_data"
   ],
   "metadata": {
    "id": "v5wr59qfy7nf",
    "is_executing": true
   },
   "execution_count": null,
   "outputs": []
  },
  {
   "cell_type": "code",
   "source": [
    "data = get_data('mms1_dis_dist_brst', dt=True)"
   ],
   "metadata": {
    "id": "FTp7iTTtzQv9",
    "is_executing": true
   },
   "execution_count": null,
   "outputs": []
  },
  {
   "cell_type": "markdown",
   "source": [
    "## Time values\n",
    "\n",
    "The `dt` option tells `get_data` to return the times as a `numpy` array of type `datetime64[ns]`. These are unix times (so no leap seconds) in UTC. "
   ],
   "metadata": {
    "id": "cMj_nIyHzZ3l"
   }
  },
  {
   "cell_type": "code",
   "source": [
    "data.times.shape"
   ],
   "metadata": {
    "colab": {
     "base_uri": "https://localhost:8080/"
    },
    "id": "kjKAf3iFAA88",
    "outputId": "4d45e254-8e83-49e3-f402-b4392970f03e",
    "is_executing": true
   },
   "execution_count": null,
   "outputs": []
  },
  {
   "cell_type": "code",
   "source": [
    "data.times"
   ],
   "metadata": {
    "colab": {
     "base_uri": "https://localhost:8080/"
    },
    "id": "uizsFaNJzZS0",
    "outputId": "8d15e5da-c4fe-4ab0-938f-b94d216cae30",
    "is_executing": true
   },
   "execution_count": null,
   "outputs": []
  },
  {
   "cell_type": "markdown",
   "source": [
    "## Multi-dimensional data values"
   ],
   "metadata": {
    "id": "6w8vnQml2MPK"
   }
  },
  {
   "cell_type": "markdown",
   "source": [
    "The data values are in `data.y` (note the 4D dataset, simply stored as a `numpy` array):"
   ],
   "metadata": {
    "id": "ByXMod5kzoiA"
   }
  },
  {
   "cell_type": "code",
   "source": [
    "data.y.shape"
   ],
   "metadata": {
    "colab": {
     "base_uri": "https://localhost:8080/"
    },
    "id": "Z1BPwnXszdI4",
    "outputId": "4433aaa7-84db-4c45-d931-1665aaf6c3b7",
    "is_executing": true
   },
   "execution_count": null,
   "outputs": []
  },
  {
   "cell_type": "markdown",
   "source": [
    "This is a function of time, energy, theta and phi. The phi values, which are time varying for this dataset, are in `v1`:"
   ],
   "metadata": {
    "id": "BusBZ_RTzvlb"
   }
  },
  {
   "cell_type": "code",
   "source": [
    "data.v1.shape"
   ],
   "metadata": {
    "colab": {
     "base_uri": "https://localhost:8080/"
    },
    "id": "zqnscD7uzrUE",
    "outputId": "deef7066-582b-4492-a9e3-6e8f1240e616",
    "is_executing": true
   },
   "execution_count": null,
   "outputs": []
  },
  {
   "cell_type": "markdown",
   "source": [
    "The phi values for the first time stamp are:"
   ],
   "metadata": {
    "id": "MfczTFYX0hlx"
   }
  },
  {
   "cell_type": "code",
   "source": [
    "data.v1[0, :]"
   ],
   "metadata": {
    "colab": {
     "base_uri": "https://localhost:8080/"
    },
    "id": "NE0JviO10AMg",
    "outputId": "790e7e1e-82e7-4806-bf8c-a3685460d162",
    "is_executing": true
   },
   "execution_count": null,
   "outputs": []
  },
  {
   "cell_type": "markdown",
   "source": [
    "The theta values are:"
   ],
   "metadata": {
    "id": "_Tkh0KH20PeY"
   }
  },
  {
   "cell_type": "code",
   "source": [
    "data.v2.shape"
   ],
   "metadata": {
    "colab": {
     "base_uri": "https://localhost:8080/"
    },
    "id": "QiFXDww50L8f",
    "outputId": "82554d72-a5b2-4e23-e62c-c3ae86ac974e",
    "is_executing": true
   },
   "execution_count": null,
   "outputs": []
  },
  {
   "cell_type": "code",
   "source": [
    "data.v2"
   ],
   "metadata": {
    "colab": {
     "base_uri": "https://localhost:8080/"
    },
    "id": "SszO0C9I0N7d",
    "outputId": "0e2e98b8-91fe-435a-b2a9-4e0fb1eb0de8",
    "is_executing": true
   },
   "execution_count": null,
   "outputs": []
  },
  {
   "cell_type": "markdown",
   "source": [
    "And the energy values are (also time varying for this dataset):"
   ],
   "metadata": {
    "id": "qsM13imV0RHH"
   }
  },
  {
   "cell_type": "code",
   "source": [
    "data.v3.shape"
   ],
   "metadata": {
    "colab": {
     "base_uri": "https://localhost:8080/"
    },
    "id": "z3oVYdTA0OlR",
    "outputId": "7c565f68-b9cb-4e33-ffa9-a49616eb8741",
    "is_executing": true
   },
   "execution_count": null,
   "outputs": []
  },
  {
   "cell_type": "markdown",
   "source": [
    "So the energy table for the first timestamp are:"
   ],
   "metadata": {
    "id": "ARAi6ReV0fAy"
   }
  },
  {
   "cell_type": "code",
   "source": [
    "data.v3[0, :]"
   ],
   "metadata": {
    "colab": {
     "base_uri": "https://localhost:8080/"
    },
    "id": "q9bg5RWu0TOv",
    "outputId": "5f59d816-d1ca-4aa0-e3a1-f87b0d8c1c3b",
    "is_executing": true
   },
   "execution_count": null,
   "outputs": []
  },
  {
   "cell_type": "markdown",
   "source": [
    "## Access to the `xarray` `DataArray` objects\n",
    "\n",
    "You can also access the underlying `DataArray` object using `get_data`:"
   ],
   "metadata": {
    "id": "S6YaShea27Zs"
   }
  },
  {
   "cell_type": "code",
   "source": [
    "xrdata = get_data('mms1_dis_dist_brst', xarray=True)"
   ],
   "metadata": {
    "id": "MyXkhA0d1yWg",
    "is_executing": true
   },
   "execution_count": null,
   "outputs": []
  },
  {
   "cell_type": "code",
   "source": [
    "xrdata"
   ],
   "metadata": {
    "colab": {
     "base_uri": "https://localhost:8080/",
     "height": 1000
    },
    "id": "AckD0B4L13Kd",
    "outputId": "06a6ecac-d542-44e6-8ef5-b74e86105e83",
    "is_executing": true
   },
   "execution_count": null,
   "outputs": []
  },
  {
   "cell_type": "markdown",
   "source": [
    "## Convert to other common time series objects (e.g. `pandas.DataFrame`)\n",
    "\n",
    "If you would prefer to work with pandas objects, you can convert the `xarray` `DataArray`, e.g., to convert the DIS bulk velocity to a `pandas.DataFrame`:"
   ],
   "metadata": {
    "id": "oLs6d4Ri7Vna"
   }
  },
  {
   "cell_type": "code",
   "source": [
    "xrbulkv = get_data('mms1_dis_bulkv_gse_brst', xarray=True)"
   ],
   "metadata": {
    "id": "AYwKS2mF7ZUD",
    "is_executing": true
   },
   "execution_count": null,
   "outputs": []
  },
  {
   "cell_type": "code",
   "source": [
    "pandas_bulkv = xrbulkv.to_pandas()"
   ],
   "metadata": {
    "id": "s0-HEQJC7MnS",
    "is_executing": true
   },
   "execution_count": null,
   "outputs": []
  },
  {
   "cell_type": "code",
   "source": [
    "pandas_bulkv"
   ],
   "metadata": {
    "colab": {
     "base_uri": "https://localhost:8080/",
     "height": 455
    },
    "id": "Vrq3pmzl7l-k",
    "outputId": "8912de34-4541-4109-8fec-d730955842e3",
    "is_executing": true
   },
   "execution_count": null,
   "outputs": []
  },
  {
   "cell_type": "markdown",
   "source": [
    "## Access the metadata\n",
    "\n",
    "You can also access the metadata of a tplot variable using `get_data`:"
   ],
   "metadata": {
    "id": "kSI3JzyD19yG"
   }
  },
  {
   "cell_type": "code",
   "source": [
    "metadata = get_data('mms1_dis_dist_brst', metadata=True)"
   ],
   "metadata": {
    "id": "5BmcHTgW00p_",
    "is_executing": true
   },
   "execution_count": null,
   "outputs": []
  },
  {
   "cell_type": "markdown",
   "source": [
    "This is just a dictionary, containing the CDF and plot metadata:"
   ],
   "metadata": {
    "id": "0oYb-esR1AMn"
   }
  },
  {
   "cell_type": "code",
   "source": [
    "metadata.keys()"
   ],
   "metadata": {
    "colab": {
     "base_uri": "https://localhost:8080/"
    },
    "id": "G--NH5uW07Hf",
    "outputId": "4d432d4f-93f7-4bce-fb0a-e7539172acdb",
    "is_executing": true
   },
   "execution_count": null,
   "outputs": []
  },
  {
   "cell_type": "markdown",
   "source": [
    "So to get the CDF metadata for our DF variable:"
   ],
   "metadata": {
    "id": "ysaAd0ay1GeW"
   }
  },
  {
   "cell_type": "code",
   "source": [
    "metadata['CDF']['VATT']"
   ],
   "metadata": {
    "colab": {
     "base_uri": "https://localhost:8080/"
    },
    "id": "QnWTsFll1DIx",
    "outputId": "4de8e232-4c5e-4337-e40f-8f48ab258a9c",
    "is_executing": true
   },
   "execution_count": null,
   "outputs": []
  },
  {
   "cell_type": "markdown",
   "source": [
    "## Create a `tplot` variable\n",
    "\n",
    "Use `store_data` to create a `tplot` variable:"
   ],
   "metadata": {
    "id": "BjB_0VWuDXM_"
   }
  },
  {
   "cell_type": "code",
   "source": [
    "from pytplot import store_data\n",
    "import numpy as np"
   ],
   "metadata": {
    "id": "Sjx_FFUEDZTM",
    "is_executing": true
   },
   "execution_count": null,
   "outputs": []
  },
  {
   "cell_type": "markdown",
   "source": [
    "For our time values, we'll just create an array of 100 values from 0 to 100 as an example. If the input to `store_data` are floats, they should be unix times in UTC"
   ],
   "metadata": {
    "id": "kelez0HSEhsC"
   }
  },
  {
   "cell_type": "code",
   "source": [
    "times = np.linspace(0, 100, 100)"
   ],
   "metadata": {
    "id": "XQkrT_zgDyPd",
    "is_executing": true
   },
   "execution_count": null,
   "outputs": []
  },
  {
   "cell_type": "markdown",
   "source": [
    "For the data values, we'll use the cosine of the time values"
   ],
   "metadata": {
    "id": "26tKRrY0Epvw"
   }
  },
  {
   "cell_type": "code",
   "source": [
    "cosine = np.cos(times)"
   ],
   "metadata": {
    "id": "5HU7Z1tKD9Kw",
    "is_executing": true
   },
   "execution_count": null,
   "outputs": []
  },
  {
   "cell_type": "code",
   "source": [
    "store_data('cosine', data={'x': times,\n",
    "                           'y': cosine})"
   ],
   "metadata": {
    "colab": {
     "base_uri": "https://localhost:8080/"
    },
    "id": "kpW_u1A6EEDs",
    "outputId": "61b5eb5d-4ba3-473d-8265-a2ad77c58785",
    "is_executing": true
   },
   "execution_count": null,
   "outputs": []
  },
  {
   "cell_type": "code",
   "source": [
    "from pytplot import tplot\n",
    "\n",
    "tplot('cosine')"
   ],
   "metadata": {
    "colab": {
     "base_uri": "https://localhost:8080/",
     "height": 336
    },
    "id": "FJ2bLueWEIqq",
    "outputId": "b75a072f-9c6e-4051-b60f-980b63c69dfe",
    "is_executing": true
   },
   "execution_count": null,
   "outputs": []
  },
  {
   "cell_type": "markdown",
   "source": [
    "In addition to `x` and `y`, `store_data` accepts the `v` tag (for spectrograms), as well as the `v1`, `v2` and `v3` tags (for multi-dimensional data).\n",
    "\n",
    "For the time values (`x`), `store_data` accepts `datetime64` objects as well:"
   ],
   "metadata": {
    "id": "v81U4mEpE3eM"
   }
  },
  {
   "cell_type": "code",
   "source": [
    "times = np.array([1, 2, 3, 4, 5], dtype='datetime64[s]')"
   ],
   "metadata": {
    "id": "5T2Q0XRKF426",
    "is_executing": true
   },
   "execution_count": null,
   "outputs": []
  },
  {
   "cell_type": "code",
   "source": [
    "times"
   ],
   "metadata": {
    "colab": {
     "base_uri": "https://localhost:8080/"
    },
    "id": "Qwi_0uY2F9GP",
    "outputId": "aee5dd99-f83d-4ca4-e46e-ea50f3b76e0d",
    "is_executing": true
   },
   "execution_count": null,
   "outputs": []
  },
  {
   "cell_type": "code",
   "source": [
    "store_data('another_variable', data={'x': times,\n",
    "                                     'y': [1, 2, 3, 4, 5]})"
   ],
   "metadata": {
    "colab": {
     "base_uri": "https://localhost:8080/"
    },
    "id": "JQzoTMdRF_qX",
    "outputId": "bc8a2898-a3fc-41f7-dc6d-92da7f82e711",
    "is_executing": true
   },
   "execution_count": null,
   "outputs": []
  },
  {
   "cell_type": "code",
   "source": [
    "tplot('another_variable')"
   ],
   "metadata": {
    "colab": {
     "base_uri": "https://localhost:8080/",
     "height": 336
    },
    "id": "p_diO37AGFjV",
    "outputId": "af8f1b9e-ce0b-43ee-b787-34d3eaafffdf",
    "is_executing": true
   },
   "execution_count": null,
   "outputs": []
  },
  {
   "cell_type": "markdown",
   "source": [
    "## Combine multiple `tplot` variables\n",
    "\n",
    "You can split a tplot variable into individual components using `split_vec`, and combine them using `join_vec`, e.g., \n",
    "\n",
    "Note: keeping track of the metadata needs to be improved"
   ],
   "metadata": {
    "id": "cfSnmr4k4fGx"
   }
  },
  {
   "cell_type": "code",
   "source": [
    "from pytplot import join_vec, split_vec"
   ],
   "metadata": {
    "id": "MGKMAMKP4OPy",
    "is_executing": true
   },
   "execution_count": null,
   "outputs": []
  },
  {
   "cell_type": "code",
   "source": [
    "split_vec('mms1_dis_bulkv_gse_brst')"
   ],
   "metadata": {
    "colab": {
     "base_uri": "https://localhost:8080/"
    },
    "id": "rweQ1QTL4hBJ",
    "outputId": "c1236246-5687-4030-f67b-ab7582a00eb1",
    "is_executing": true
   },
   "execution_count": null,
   "outputs": []
  },
  {
   "cell_type": "markdown",
   "source": [
    "Plot the individual components:"
   ],
   "metadata": {
    "id": "WekgGCjz5kVX"
   }
  },
  {
   "cell_type": "code",
   "source": [
    "from pytplot import tplot\n",
    "\n",
    "tplot(['mms1_dis_bulkv_gse_brst_x',\n",
    "       'mms1_dis_bulkv_gse_brst_y',\n",
    "       'mms1_dis_bulkv_gse_brst_z'])"
   ],
   "metadata": {
    "colab": {
     "base_uri": "https://localhost:8080/",
     "height": 336
    },
    "id": "4P6Syrmq5kH0",
    "outputId": "be81258b-7e21-4f63-caba-4283ea28c349",
    "is_executing": true
   },
   "execution_count": null,
   "outputs": []
  },
  {
   "cell_type": "markdown",
   "source": [
    "And you can use `join_vec` to join them back together:"
   ],
   "metadata": {
    "id": "-s3i7-NS5wug"
   }
  },
  {
   "cell_type": "code",
   "source": [
    "join_vec(['mms1_dis_bulkv_gse_brst_x',\n",
    "          'mms1_dis_bulkv_gse_brst_y',\n",
    "          'mms1_dis_bulkv_gse_brst_z'], new_tvar='bulkv_from_components')"
   ],
   "metadata": {
    "colab": {
     "base_uri": "https://localhost:8080/",
     "height": 36
    },
    "id": "0NdJXKiT5qfj",
    "outputId": "9aa37d6a-5ac6-41d8-f773-c3579e971bfc",
    "is_executing": true
   },
   "execution_count": null,
   "outputs": []
  },
  {
   "cell_type": "code",
   "source": [
    "tplot('bulkv_from_components')"
   ],
   "metadata": {
    "colab": {
     "base_uri": "https://localhost:8080/",
     "height": 336
    },
    "id": "x6jzQgZJHYmr",
    "outputId": "679336bd-cee4-4b3e-e5ff-b330ea89b7d1",
    "is_executing": true
   },
   "execution_count": null,
   "outputs": []
  },
  {
   "cell_type": "markdown",
   "source": [
    "## More examples\n",
    "\n",
    "Please see the following for more examples:\n",
    "### Loading Data\n",
    "- [MMS examples](https://github.com/spedas/mms-examples/tree/master/basic)\n",
    "- [THEMIS examples](https://github.com/spedas/themis-examples/tree/main/basic)\n",
    "- [Load data from HAPI servers](https://github.com/spedas/pyspedas_examples/blob/master/pyspedas_examples/notebooks/PySPEDAS_loading_data_from_HAPI_servers.ipynb)\n",
    "- [Exploring the Heliosphere with Python](https://github.com/spedas/pyspedas_examples/blob/master/pyspedas_examples/notebooks/Exploring_the_Heliosphere_with_Python.ipynb)\n",
    "\n",
    "### Plotting Data\n",
    "- [Annotations](https://github.com/spedas/pyspedas_examples/blob/master/pyspedas_examples/notebooks/PyTplot_annotations.ipynb)\n",
    "- [Range options](https://github.com/spedas/pyspedas_examples/blob/master/pyspedas_examples/notebooks/PyTplot_range_options.ipynb)\n",
    "- [Spectrogram options](https://github.com/spedas/pyspedas_examples/blob/master/pyspedas_examples/notebooks/PyTplot_spectrogram_options.ipynb)\n",
    "- [Legend options](https://github.com/spedas/pyspedas_examples/blob/master/pyspedas_examples/notebooks/PyTplot_legend_options.ipynb)\n",
    "- [Markers and symbols](https://github.com/spedas/pyspedas_examples/blob/master/pyspedas_examples/notebooks/PyTplot_markers_and_symbols.ipynb)\n",
    "- [Error bars](https://github.com/spedas/pyspedas_examples/blob/master/pyspedas_examples/notebooks/PyTplot_error_bars.ipynb)\n",
    "- [Pseudo variables](https://github.com/spedas/pyspedas_examples/blob/master/pyspedas_examples/notebooks/PyTplot_pseudo_variables.ipynb)\n",
    "- [Highlight intervals and vertical bars](https://github.com/spedas/pyspedas_examples/blob/master/pyspedas_examples/notebooks/PyTplot_highlight_intervals_and_vertical_bars.ipynb)\n",
    "\n",
    "\n",
    "### Dates and Times\n",
    "- [Working with dates and times](https://github.com/spedas/pyspedas_examples/blob/master/pyspedas_examples/notebooks/Working_with_dates_and_times_with_PySPEDAS_PyTplot.ipynb)\n",
    "\n",
    "### Coordinate Transformations\n",
    "- [Coordinate transformations](https://github.com/spedas/pyspedas_examples/blob/master/pyspedas_examples/notebooks/Coordinate_transformations_with_OMNI_data.ipynb)\n",
    "- [Transforming MMS data to boundary normal (LMN) coordinates](https://github.com/spedas/mms-examples/blob/master/advanced/MMS_LMN_coordinate_transformation.ipynb)\n",
    "- [Quaternion transformations with SpacePy](https://github.com/spedas/mms-examples/blob/master/basic/MMS_quaternion_coordinate_transformations.ipynb)\n",
    "\n",
    "### Analysis\n",
    "- [Plasma calculations with PlasmaPy](https://github.com/spedas/mms-examples/blob/master/advanced/Plasma%20calculations%20with%20PlasmaPy.ipynb)\n",
    "- [Calculating Poynting flux with MMS data](https://github.com/spedas/mms-examples/blob/master/advanced/Poynting_flux_with_MMS_data.ipynb)\n",
    "- [Plasma beta with MMS data](https://github.com/spedas/mms-examples/blob/master/basic/Plasma%20Beta%20with%20FGM%20and%20FPI%20data.ipynb) (note: the PlasmaPy notebook above shows a much easier method)\n",
    "- [Curlometer calculations](https://github.com/spedas/mms-examples/blob/master/basic/Curlometer%20Technique.ipynb)\n",
    "- [Neutral sheet models](https://github.com/spedas/mms-examples/blob/master/advanced/MMS_neutral_sheet_models.ipynb)\n",
    "- [Wave polarization calculations](https://github.com/spedas/mms-examples/blob/master/advanced/Wave_polarization_using_SCM_data.ipynb)\n",
    "- [Dynamic power spectra calculations](https://github.com/spedas/mms-examples/blob/master/basic/Search-coil%20Magnetometer%20(SCM).ipynb)\n",
    "- [2D slices of MMS distribution functions](https://github.com/spedas/mms-examples/blob/master/advanced/Generate_2D_slices_of_FPI_and_HPCA_data.ipynb)\n",
    "- [Generating spectrograms and moments from MMS distribution functions](https://github.com/spedas/mms-examples/blob/master/advanced/Generate%20spectrograms%20and%20moments%20with%20mms_part_getspec.ipynb)\n"
   ],
   "metadata": {
    "id": "e4k7cLf5IBxs"
   }
  },
  {
   "cell_type": "code",
   "source": [],
   "metadata": {
    "id": "sP7EcvdPHZmR",
    "is_executing": true
   },
   "execution_count": null,
   "outputs": []
  }
 ]
}
