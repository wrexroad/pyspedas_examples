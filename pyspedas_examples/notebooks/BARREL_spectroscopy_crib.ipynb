{
 "cells": [
  {
   "cell_type": "markdown",
   "metadata": {},
   "source": [
    "## BARREL Spectroscopy Crib\n",
    "\n",
    "\n",
    "### Intro \n",
    "In this guide we will explore the spectroscopy functions provided by the BARREL Spectroscopy functions in pySPEDAS. In general, these functions can be accessed as `pyspedas.barrel.spec.<function_name>`. These functions have been ported from the BARREL module of the IDL SPEDAS package. The examples in this notebook are derived from `barrel_spectroscopy_crib.pro`.\n",
    "\n",
    "### Setup"
   ]
  },
  {
   "cell_type": "markdown",
   "metadata": {},
   "source": [
    ">**_NOTE:_** The `%matplotlib ipympl` line will enable interactive plots. This is not required, but will allow you to use your cursor to see exact times and values. The `ipympl` package may need to be installed separately from pyspedas."
   ]
  },
  {
   "cell_type": "code",
   "execution_count": null,
   "metadata": {},
   "outputs": [],
   "source": [
    "%matplotlib ipympl\n",
    "import pyspedas, pytplot"
   ]
  },
  {
   "cell_type": "markdown",
   "metadata": {},
   "source": [
    "### Example 1: bkg time intervals; exponential spectrum, slow spectra\n",
    "\n",
    "> **_Original IDL syntax:_**\\\n",
    "barrel_spectroscopy,spectest1,'2013-01-17/00:50:00',9.,'1G',/slow,numbkg=2,fitrange=[80.,2500.],saveme='spectest1.sav'\n",
    "\n",
    "> \n"
   ]
  },
  {
   "cell_type": "markdown",
   "metadata": {},
   "source": [
    "In this example we will download 9 hours of slow spectra data from payload 1G starting at `2013-01-17/00:50:00` using exponential spectrum.\n",
    "\n",
    "First, the we define the define a `trange` variable and load the CDF files. We get get both the SSPC and FSPC CDF files:"
   ]
  },
  {
   "cell_type": "code",
   "execution_count": null,
   "metadata": {},
   "outputs": [],
   "source": [
    "trange = [\"2013-01-17/00:50:00\", \"2013-01-17/09:50:00\"]\n",
    "pyspedas.barrel.sspc(trange, \"1G\")\n",
    "pyspedas.barrel.fspc(trange, \"1G\")"
   ]
  },
  {
   "cell_type": "markdown",
   "metadata": {},
   "source": [
    "Using the `tplot_names()` function lists the variable names that have been downloaded (we are looking for `brl1G_SSPC`)."
   ]
  },
  {
   "cell_type": "code",
   "execution_count": null,
   "metadata": {},
   "outputs": [],
   "source": [
    "pyspedas.tplot_names()"
   ]
  },
  {
   "cell_type": "markdown",
   "metadata": {},
   "source": [
    "Now that the data have been downloaded, we can plot the SSPC data: "
   ]
  },
  {
   "cell_type": "code",
   "execution_count": null,
   "metadata": {},
   "outputs": [],
   "source": [
    "pytplot.tplot('brl1G_SSPC')\n",
    "pytplot.tplot('brl1G_FSPC1')"
   ]
  },
  {
   "cell_type": "markdown",
   "metadata": {},
   "source": [
    "Using the plots, identify the event and background time periods:"
   ]
  },
  {
   "cell_type": "code",
   "execution_count": null,
   "metadata": {},
   "outputs": [],
   "source": [
    "event_period=(\"2013-01-17/01:54:00\", \"2013-01-17/03:24:00\")\n",
    "background_periods=[(\"2013-01-17/17:25:00\", \"2013-01-17/20:35:00\"), (\"2013-01-18/09:35:00\", \"2013-01-18/12:04:00\")]"
   ]
  },
  {
   "cell_type": "markdown",
   "metadata": {},
   "source": [
    "Next we can initalize our spectroscopy data object `specstruct`:"
   ]
  },
  {
   "cell_type": "code",
   "execution_count": null,
   "metadata": {},
   "outputs": [],
   "source": [
    "specstruct = pyspedas.barrel.spec.barrel_sp_make(tplot_var=\"brl1G_SSPC\", event_periods=event_period, background_periods=background_periods)"
   ]
  },
  {
   "cell_type": "markdown",
   "metadata": {},
   "source": [
    "Once the `specstruct` has been created, we can build the spectra from the CDF files that have been loaded (this will also download rate counter and ephemeris file automatically):"
   ]
  },
  {
   "cell_type": "code",
   "execution_count": null,
   "metadata": {},
   "outputs": [],
   "source": [
    "pyspedas.barrel.spec.barrel_sp_collect_spectra(specstruct)"
   ]
  },
  {
   "cell_type": "markdown",
   "metadata": {},
   "source": [
    "The `specstrut` object contains a source spectrum and background spectrum which can be plotted. We will extract the raw data from the SSPC CDF file to get the energy levels, then create new tplot variables for the source and background spectra and plot them."
   ]
  },
  {
   "cell_type": "code",
   "execution_count": null,
   "metadata": {},
   "outputs": [],
   "source": [
    "ts, raw_cnts, energy_levels = pytplot.get_data('brl1G_SSPC')\n",
    "\n",
    "pytplot.store_data(\"brl1G_Event_Spec\", data={'x':energy_levels, 'y':specstruct[\"src_spec\"]})\n",
    "pytplot.options(\"brl1G_Event_Spec\", opt_dict={\"name\": \"Event Spectrum\", \"ytitle\": \"cnts/keV/sec\"})\n",
    "pytplot.tplot(\"brl1G_Event_Spec\")\n",
    "\n",
    "pytplot.store_data(\"brl1G_Bkg_Spec\", data={'x':energy_levels, 'y':specstruct[\"bkg_spec\"]})\n",
    "pytplot.options(\"brl1G_Bkg_Spec\", opt_dict={\"name\": \"Background Spectrum\", \"ytitle\": \"cnts/keV/sec\"})\n",
    "pytplot.tplot(\"brl1G_Bkg_Spec\")"
   ]
  }
 ],
 "metadata": {
  "kernelspec": {
   "display_name": "pyspedas",
   "language": "python",
   "name": "python3"
  },
  "language_info": {
   "codemirror_mode": {
    "name": "ipython",
    "version": 3
   },
   "file_extension": ".py",
   "mimetype": "text/x-python",
   "name": "python",
   "nbconvert_exporter": "python",
   "pygments_lexer": "ipython3",
   "version": "3.12.4"
  },
  "orig_nbformat": 4
 },
 "nbformat": 4,
 "nbformat_minor": 2
}
