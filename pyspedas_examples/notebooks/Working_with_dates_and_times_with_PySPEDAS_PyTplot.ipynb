{
 "nbformat": 4,
 "nbformat_minor": 0,
 "metadata": {
  "colab": {
   "name": "Working with dates and times with PySPEDAS/PyTplot.ipynb",
   "provenance": [],
   "collapsed_sections": []
  },
  "kernelspec": {
   "name": "python3",
   "language": "python",
   "display_name": "Python 3 (ipykernel)"
  },
  "language_info": {
   "name": "python"
  }
 },
 "cells": [
  {
   "cell_type": "markdown",
   "source": [
    "# Working with dates and times with PySPEDAS/PyTplot\n",
    "\n",
    "**By Eric Grimes, UCLA - Earth, Planetary, and Space Sciences; egrimes(at)igpp.ucla.edu**\n",
    "\n",
    "This notebook includes examples of working with date/time values in PySPEDAS and PyTplot\n"
   ],
   "metadata": {
    "id": "dEaXLRwW_Q2G"
   }
  },
  {
   "cell_type": "markdown",
   "source": [
    "The following line installs pyspedas, so this notebook can be used in Google Colab.  If you're running in an environment where pyspedas is already installed, you can comment out or skip this command."
   ],
   "metadata": {
    "collapsed": false
   }
  },
  {
   "cell_type": "code",
   "execution_count": 1,
   "metadata": {
    "id": "5wOBeJHn94DP",
    "ExecuteTime": {
     "end_time": "2023-06-21T21:52:20.455534800Z",
     "start_time": "2023-06-21T21:52:18.787260600Z"
    }
   },
   "outputs": [
    {
     "name": "stdout",
     "output_type": "stream",
     "text": [
      "Requirement already satisfied: pyspedas in c:\\users\\james\\pycharmprojects\\pyspedas_examples\\venv\\lib\\site-packages (1.4.37)\n",
      "Requirement already satisfied: cdflib>=0.4.3 in c:\\users\\james\\pycharmprojects\\pyspedas_examples\\venv\\lib\\site-packages (from pyspedas) (0.4.9)\n",
      "Requirement already satisfied: geopack>=1.0.10 in c:\\users\\james\\pycharmprojects\\pyspedas_examples\\venv\\lib\\site-packages (from pyspedas) (1.0.10)\n",
      "Requirement already satisfied: numpy>=1.19.5 in c:\\users\\james\\pycharmprojects\\pyspedas_examples\\venv\\lib\\site-packages (from pyspedas) (1.24.3)\n",
      "Requirement already satisfied: netCDF4>=1.6.2 in c:\\users\\james\\pycharmprojects\\pyspedas_examples\\venv\\lib\\site-packages (from pyspedas) (1.6.4)\n",
      "Requirement already satisfied: astropy in c:\\users\\james\\pycharmprojects\\pyspedas_examples\\venv\\lib\\site-packages (from pyspedas) (5.3)\n",
      "Requirement already satisfied: hapiclient>=0.2.2 in c:\\users\\james\\pycharmprojects\\pyspedas_examples\\venv\\lib\\site-packages (from pyspedas) (0.2.5)\n",
      "Requirement already satisfied: requests in c:\\users\\james\\pycharmprojects\\pyspedas_examples\\venv\\lib\\site-packages (from pyspedas) (2.31.0)\n",
      "Requirement already satisfied: pywavelets in c:\\users\\james\\pycharmprojects\\pyspedas_examples\\venv\\lib\\site-packages (from pyspedas) (1.4.1)\n",
      "Requirement already satisfied: viresclient in c:\\users\\james\\pycharmprojects\\pyspedas_examples\\venv\\lib\\site-packages (from pyspedas) (0.11.1)\n",
      "Requirement already satisfied: cdasws>=1.7.24 in c:\\users\\james\\pycharmprojects\\pyspedas_examples\\venv\\lib\\site-packages (from pyspedas) (1.7.43)\n",
      "Requirement already satisfied: pytplot-mpl-temp>=2.1.37 in c:\\users\\james\\pycharmprojects\\pyspedas_examples\\venv\\lib\\site-packages (from pyspedas) (2.1.39)\n",
      "Requirement already satisfied: python-dateutil>=2.8.0 in c:\\users\\james\\pycharmprojects\\pyspedas_examples\\venv\\lib\\site-packages (from cdasws>=1.7.24->pyspedas) (2.8.2)\n",
      "Requirement already satisfied: scipy in c:\\users\\james\\pycharmprojects\\pyspedas_examples\\venv\\lib\\site-packages (from geopack>=1.0.10->pyspedas) (1.10.1)\n",
      "Requirement already satisfied: pandas>=0.23 in c:\\users\\james\\pycharmprojects\\pyspedas_examples\\venv\\lib\\site-packages (from hapiclient>=0.2.2->pyspedas) (2.0.2)\n",
      "Requirement already satisfied: joblib in c:\\users\\james\\pycharmprojects\\pyspedas_examples\\venv\\lib\\site-packages (from hapiclient>=0.2.2->pyspedas) (1.2.0)\n",
      "Requirement already satisfied: urllib3 in c:\\users\\james\\pycharmprojects\\pyspedas_examples\\venv\\lib\\site-packages (from hapiclient>=0.2.2->pyspedas) (2.0.3)\n",
      "Requirement already satisfied: isodate>=0.6.0 in c:\\users\\james\\pycharmprojects\\pyspedas_examples\\venv\\lib\\site-packages (from hapiclient>=0.2.2->pyspedas) (0.6.1)\n",
      "Requirement already satisfied: certifi in c:\\users\\james\\pycharmprojects\\pyspedas_examples\\venv\\lib\\site-packages (from netCDF4>=1.6.2->pyspedas) (2023.5.7)\n",
      "Requirement already satisfied: cftime in c:\\users\\james\\pycharmprojects\\pyspedas_examples\\venv\\lib\\site-packages (from netCDF4>=1.6.2->pyspedas) (1.6.2)\n",
      "Requirement already satisfied: bokeh<3.0,>=1.1 in c:\\users\\james\\pycharmprojects\\pyspedas_examples\\venv\\lib\\site-packages (from pytplot-mpl-temp>=2.1.37->pyspedas) (2.4.3)\n",
      "Requirement already satisfied: matplotlib>=3.4 in c:\\users\\james\\pycharmprojects\\pyspedas_examples\\venv\\lib\\site-packages (from pytplot-mpl-temp>=2.1.37->pyspedas) (3.7.1)\n",
      "Requirement already satisfied: xarray in c:\\users\\james\\pycharmprojects\\pyspedas_examples\\venv\\lib\\site-packages (from pytplot-mpl-temp>=2.1.37->pyspedas) (2023.5.0)\n",
      "Requirement already satisfied: charset-normalizer<4,>=2 in c:\\users\\james\\pycharmprojects\\pyspedas_examples\\venv\\lib\\site-packages (from requests->pyspedas) (3.1.0)\n",
      "Requirement already satisfied: idna<4,>=2.5 in c:\\users\\james\\pycharmprojects\\pyspedas_examples\\venv\\lib\\site-packages (from requests->pyspedas) (3.4)\n",
      "Requirement already satisfied: PyYAML>=3.13 in c:\\users\\james\\pycharmprojects\\pyspedas_examples\\venv\\lib\\site-packages (from astropy->pyspedas) (6.0)\n",
      "Requirement already satisfied: pyerfa>=2.0 in c:\\users\\james\\pycharmprojects\\pyspedas_examples\\venv\\lib\\site-packages (from astropy->pyspedas) (2.0.0.3)\n",
      "Requirement already satisfied: packaging>=19.0 in c:\\users\\james\\pycharmprojects\\pyspedas_examples\\venv\\lib\\site-packages (from astropy->pyspedas) (23.1)\n",
      "Requirement already satisfied: tqdm>=4.23.0 in c:\\users\\james\\pycharmprojects\\pyspedas_examples\\venv\\lib\\site-packages (from viresclient->pyspedas) (4.65.0)\n",
      "Requirement already satisfied: Jinja2>=2.10 in c:\\users\\james\\pycharmprojects\\pyspedas_examples\\venv\\lib\\site-packages (from viresclient->pyspedas) (3.1.2)\n",
      "Requirement already satisfied: tables>=3.4.4 in c:\\users\\james\\pycharmprojects\\pyspedas_examples\\venv\\lib\\site-packages (from viresclient->pyspedas) (3.8.0)\n",
      "Requirement already satisfied: tornado>=5.1 in c:\\users\\james\\pycharmprojects\\pyspedas_examples\\venv\\lib\\site-packages (from bokeh<3.0,>=1.1->pytplot-mpl-temp>=2.1.37->pyspedas) (6.3.2)\n",
      "Requirement already satisfied: pillow>=7.1.0 in c:\\users\\james\\pycharmprojects\\pyspedas_examples\\venv\\lib\\site-packages (from bokeh<3.0,>=1.1->pytplot-mpl-temp>=2.1.37->pyspedas) (9.5.0)\n",
      "Requirement already satisfied: typing-extensions>=3.10.0 in c:\\users\\james\\pycharmprojects\\pyspedas_examples\\venv\\lib\\site-packages (from bokeh<3.0,>=1.1->pytplot-mpl-temp>=2.1.37->pyspedas) (4.6.3)\n",
      "Requirement already satisfied: six in c:\\users\\james\\pycharmprojects\\pyspedas_examples\\venv\\lib\\site-packages (from isodate>=0.6.0->hapiclient>=0.2.2->pyspedas) (1.16.0)\n",
      "Requirement already satisfied: MarkupSafe>=2.0 in c:\\users\\james\\pycharmprojects\\pyspedas_examples\\venv\\lib\\site-packages (from Jinja2>=2.10->viresclient->pyspedas) (2.1.3)\n",
      "Requirement already satisfied: cycler>=0.10 in c:\\users\\james\\pycharmprojects\\pyspedas_examples\\venv\\lib\\site-packages (from matplotlib>=3.4->pytplot-mpl-temp>=2.1.37->pyspedas) (0.11.0)\n",
      "Requirement already satisfied: pyparsing>=2.3.1 in c:\\users\\james\\pycharmprojects\\pyspedas_examples\\venv\\lib\\site-packages (from matplotlib>=3.4->pytplot-mpl-temp>=2.1.37->pyspedas) (3.1.0)\n",
      "Requirement already satisfied: fonttools>=4.22.0 in c:\\users\\james\\pycharmprojects\\pyspedas_examples\\venv\\lib\\site-packages (from matplotlib>=3.4->pytplot-mpl-temp>=2.1.37->pyspedas) (4.40.0)\n",
      "Requirement already satisfied: kiwisolver>=1.0.1 in c:\\users\\james\\pycharmprojects\\pyspedas_examples\\venv\\lib\\site-packages (from matplotlib>=3.4->pytplot-mpl-temp>=2.1.37->pyspedas) (1.4.4)\n",
      "Requirement already satisfied: contourpy>=1.0.1 in c:\\users\\james\\pycharmprojects\\pyspedas_examples\\venv\\lib\\site-packages (from matplotlib>=3.4->pytplot-mpl-temp>=2.1.37->pyspedas) (1.1.0)\n",
      "Requirement already satisfied: tzdata>=2022.1 in c:\\users\\james\\pycharmprojects\\pyspedas_examples\\venv\\lib\\site-packages (from pandas>=0.23->hapiclient>=0.2.2->pyspedas) (2023.3)\n",
      "Requirement already satisfied: pytz>=2020.1 in c:\\users\\james\\pycharmprojects\\pyspedas_examples\\venv\\lib\\site-packages (from pandas>=0.23->hapiclient>=0.2.2->pyspedas) (2023.3)\n",
      "Requirement already satisfied: numexpr>=2.6.2 in c:\\users\\james\\pycharmprojects\\pyspedas_examples\\venv\\lib\\site-packages (from tables>=3.4.4->viresclient->pyspedas) (2.8.4)\n",
      "Requirement already satisfied: py-cpuinfo in c:\\users\\james\\pycharmprojects\\pyspedas_examples\\venv\\lib\\site-packages (from tables>=3.4.4->viresclient->pyspedas) (9.0.0)\n",
      "Requirement already satisfied: cython>=0.29.21 in c:\\users\\james\\pycharmprojects\\pyspedas_examples\\venv\\lib\\site-packages (from tables>=3.4.4->viresclient->pyspedas) (0.29.35)\n",
      "Requirement already satisfied: blosc2~=2.0.0 in c:\\users\\james\\pycharmprojects\\pyspedas_examples\\venv\\lib\\site-packages (from tables>=3.4.4->viresclient->pyspedas) (2.0.0)\n",
      "Requirement already satisfied: colorama in c:\\users\\james\\pycharmprojects\\pyspedas_examples\\venv\\lib\\site-packages (from tqdm>=4.23.0->viresclient->pyspedas) (0.4.6)\n",
      "Requirement already satisfied: msgpack in c:\\users\\james\\pycharmprojects\\pyspedas_examples\\venv\\lib\\site-packages (from blosc2~=2.0.0->tables>=3.4.4->viresclient->pyspedas) (1.0.5)\n"
     ]
    },
    {
     "name": "stderr",
     "output_type": "stream",
     "text": [
      "\n",
      "[notice] A new release of pip available: 22.3.1 -> 23.1.2\n",
      "[notice] To update, run: python.exe -m pip install --upgrade pip\n"
     ]
    }
   ],
   "source": [
    "!pip install pyspedas"
   ]
  },
  {
   "cell_type": "markdown",
   "source": [
    "Time values in PyTplot variables are stored internally as datetime64 objects.\n",
    "However, the PyTplot time conversion routines assume that numerical timestamps\n",
    "are represented as Unix times, in units of seconds.  (The conversions to and from\n",
    "the internal datetime64 representation are performed automatically in the store_data and\n",
    "get_data routines.)\n",
    "\n",
    "https://en.wikipedia.org/wiki/Unix_time\n",
    "\n",
    "We have routines for working with times, including:\n",
    "\n",
    "`time_double`: convert a string to a unix time"
   ],
   "metadata": {
    "id": "SSMjbntj-E-k"
   }
  },
  {
   "cell_type": "code",
   "source": [
    "from pyspedas import time_double"
   ],
   "metadata": {
    "id": "xr0eQ82h9-PC"
   },
   "execution_count": 4,
   "outputs": []
  },
  {
   "cell_type": "code",
   "source": [
    "time_double('2015-10-16/13:06')"
   ],
   "metadata": {
    "colab": {
     "base_uri": "https://localhost:8080/"
    },
    "id": "FemELSXC-WM4",
    "outputId": "2faeb565-2fc1-4d63-9313-58d4196a7567"
   },
   "execution_count": 5,
   "outputs": [
    {
     "output_type": "execute_result",
     "data": {
      "text/plain": [
       "1445000760.0"
      ]
     },
     "metadata": {},
     "execution_count": 5
    }
   ]
  },
  {
   "cell_type": "markdown",
   "source": [
    "This also accepts a list of time values"
   ],
   "metadata": {
    "id": "JsbBVTja-jHg"
   }
  },
  {
   "cell_type": "code",
   "source": [
    "time_double(['2015-10-16/13:06', '2015-10-16/13:07:01'])"
   ],
   "metadata": {
    "colab": {
     "base_uri": "https://localhost:8080/"
    },
    "id": "K6jBUphN-gOI",
    "outputId": "a8e36cf6-b4d3-4997-b2bf-f6b0d1adca25"
   },
   "execution_count": 6,
   "outputs": [
    {
     "output_type": "execute_result",
     "data": {
      "text/plain": [
       "[1445000760.0, 1445000821.0]"
      ]
     },
     "metadata": {},
     "execution_count": 6
    }
   ]
  },
  {
   "cell_type": "markdown",
   "source": [
    "The input format for the string is extremely flexible, e.g., "
   ],
   "metadata": {
    "id": "_LvmMQ5e-wFS"
   }
  },
  {
   "cell_type": "code",
   "source": [
    "time_double('Oct 16, 2015 at 13:06')"
   ],
   "metadata": {
    "colab": {
     "base_uri": "https://localhost:8080/"
    },
    "id": "JT_Y--tj-oac",
    "outputId": "3d9a1b2d-8a81-4443-88a5-a50a676ea26a"
   },
   "execution_count": 7,
   "outputs": [
    {
     "output_type": "execute_result",
     "data": {
      "text/plain": [
       "1445000760.0"
      ]
     },
     "metadata": {},
     "execution_count": 7
    }
   ]
  },
  {
   "cell_type": "markdown",
   "source": [
    "To convert a unix time back to a string, use `time_string`"
   ],
   "metadata": {
    "id": "oYK_nmLc-77K"
   }
  },
  {
   "cell_type": "code",
   "source": [
    "from pyspedas import time_string"
   ],
   "metadata": {
    "id": "pBQtgO9--stB"
   },
   "execution_count": 8,
   "outputs": []
  },
  {
   "cell_type": "code",
   "source": [
    "time_string(1445000760.0)"
   ],
   "metadata": {
    "colab": {
     "base_uri": "https://localhost:8080/",
     "height": 35
    },
    "id": "t_R9Pb--_CWb",
    "outputId": "95961c08-5e74-4ab5-a861-b2971838b6d7"
   },
   "execution_count": 9,
   "outputs": [
    {
     "output_type": "execute_result",
     "data": {
      "text/plain": [
       "'2015-10-16 13:06:00.000000'"
      ],
      "application/vnd.google.colaboratory.intrinsic+json": {
       "type": "string"
      }
     },
     "metadata": {},
     "execution_count": 9
    }
   ]
  },
  {
   "cell_type": "markdown",
   "source": [
    "This also accepts lists of times, e.g., "
   ],
   "metadata": {
    "id": "nQLRfx4B_FWb"
   }
  },
  {
   "cell_type": "code",
   "source": [
    "time_string([1445000760.0, 1445000821.0])"
   ],
   "metadata": {
    "colab": {
     "base_uri": "https://localhost:8080/"
    },
    "id": "oMUd79-s_EZz",
    "outputId": "1f390afb-07fd-46ca-af1e-b9b2b75b8897"
   },
   "execution_count": 10,
   "outputs": [
    {
     "output_type": "execute_result",
     "data": {
      "text/plain": [
       "['2015-10-16 13:06:00.000000', '2015-10-16 13:07:01.000000']"
      ]
     },
     "metadata": {},
     "execution_count": 10
    }
   ]
  },
  {
   "cell_type": "markdown",
   "source": [
    "To change the format of the output string, use the `fmt` option, e.g., "
   ],
   "metadata": {
    "id": "DcBksXex_8lO"
   }
  },
  {
   "cell_type": "code",
   "source": [
    "time_string([1445000760.0, 1445000821.0], fmt='%Y-%m-%d/%H:%M:%S')"
   ],
   "metadata": {
    "colab": {
     "base_uri": "https://localhost:8080/"
    },
    "id": "GN52njLR_LVn",
    "outputId": "bb0d19b3-ac87-438f-fa93-3a57ebdf6390"
   },
   "execution_count": 11,
   "outputs": [
    {
     "output_type": "execute_result",
     "data": {
      "text/plain": [
       "['2015-10-16/13:06:00', '2015-10-16/13:07:01']"
      ]
     },
     "metadata": {},
     "execution_count": 11
    }
   ]
  },
  {
   "cell_type": "markdown",
   "source": [
    "Please see the strftime cheatsheet at https://strftime.org for possible formats.\n",
    "(Supported formats may vary depending on the platform being used.)"
   ],
   "metadata": {
    "id": "x4figStTAU3H"
   }
  },
  {
   "cell_type": "code",
   "source": [
    "time_string([1445000760.0, 1445000821.0], fmt='%B %d, %Y at %H:%M')"
   ],
   "metadata": {
    "colab": {
     "base_uri": "https://localhost:8080/"
    },
    "id": "SuHD1KMhAGf3",
    "outputId": "c1165a11-faf0-457b-de35-a13c49fd0986"
   },
   "execution_count": 12,
   "outputs": [
    {
     "output_type": "execute_result",
     "data": {
      "text/plain": [
       "['October 16, 2015 at 13:06', 'October 16, 2015 at 13:07']"
      ]
     },
     "metadata": {},
     "execution_count": 12
    }
   ]
  },
  {
   "cell_type": "markdown",
   "source": [
    "Finally, to convert to datetime objects, use `time_datetime`"
   ],
   "metadata": {
    "id": "UTWErnvtAwoJ"
   }
  },
  {
   "cell_type": "code",
   "source": [
    "from pyspedas import time_datetime"
   ],
   "metadata": {
    "id": "ZrR4deidArUJ"
   },
   "execution_count": 13,
   "outputs": []
  },
  {
   "cell_type": "code",
   "source": [
    "time_datetime(1445000760.0)"
   ],
   "metadata": {
    "colab": {
     "base_uri": "https://localhost:8080/"
    },
    "id": "sPlVtxdLA_Za",
    "outputId": "07a17467-a27b-45c5-c1a7-a586ff7ec340"
   },
   "execution_count": 14,
   "outputs": [
    {
     "output_type": "execute_result",
     "data": {
      "text/plain": [
       "datetime.datetime(2015, 10, 16, 13, 6, tzinfo=datetime.timezone.utc)"
      ]
     },
     "metadata": {},
     "execution_count": 14
    }
   ]
  },
  {
   "cell_type": "markdown",
   "source": [
    "Note that this routine also accepts strings"
   ],
   "metadata": {
    "id": "8-XotHv8BCza"
   }
  },
  {
   "cell_type": "code",
   "source": [
    "time_datetime('October 16, 2015 at 13:06')"
   ],
   "metadata": {
    "colab": {
     "base_uri": "https://localhost:8080/"
    },
    "id": "Nh_NUQQRBB2r",
    "outputId": "c3248e2b-6606-456b-e2db-2d021270a1c5"
   },
   "execution_count": 15,
   "outputs": [
    {
     "output_type": "execute_result",
     "data": {
      "text/plain": [
       "datetime.datetime(2015, 10, 16, 13, 6, tzinfo=datetime.timezone.utc)"
      ]
     },
     "metadata": {},
     "execution_count": 15
    }
   ]
  },
  {
   "cell_type": "markdown",
   "source": [
    "as well as lists:"
   ],
   "metadata": {
    "id": "ecVeQzTfBQ4s"
   }
  },
  {
   "cell_type": "code",
   "source": [
    "time_datetime(['October 16, 2015 at 13:06', 'October 16, 2015 at 13:07'])"
   ],
   "metadata": {
    "colab": {
     "base_uri": "https://localhost:8080/"
    },
    "id": "fOQQZzefBIXk",
    "outputId": "8b5299b7-2eaf-4985-daff-e175ae2dce9f"
   },
   "execution_count": 16,
   "outputs": [
    {
     "output_type": "execute_result",
     "data": {
      "text/plain": [
       "[datetime.datetime(2015, 10, 16, 13, 6, tzinfo=datetime.timezone.utc),\n",
       " datetime.datetime(2015, 10, 16, 13, 7, tzinfo=datetime.timezone.utc)]"
      ]
     },
     "metadata": {},
     "execution_count": 16
    }
   ]
  }
 ]
}
