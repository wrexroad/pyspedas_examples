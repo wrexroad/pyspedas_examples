{
 "nbformat": 4,
 "nbformat_minor": 0,
 "metadata": {
  "colab": {
   "provenance": [],
   "toc_visible": true
  },
  "kernelspec": {
   "name": "python3",
   "display_name": "Python 3"
  },
  "language_info": {
   "name": "python"
  }
 },
 "cells": [
  {
   "cell_type": "markdown",
   "source": [
    "# Timeseries data with PySPEDAS + PyTplot\n",
    "\n",
    "This notebook demonstrates how to work with time series data using PySPEDAS and PyTplot. "
   ],
   "metadata": {
    "id": "biQtjThm7wba"
   }
  },
  {
   "cell_type": "markdown",
   "source": [
    "The following line installs pyspedas, so this notebook can be used in Google Colab.  If you're running in an environment where pyspedas is already installed, you can comment out or skip this command."
   ],
   "metadata": {
    "collapsed": false
   }
  },
  {
   "cell_type": "code",
   "execution_count": null,
   "metadata": {
    "id": "DMRu_5HWyeNh"
   },
   "outputs": [],
   "source": [
    "!pip install pyspedas"
   ]
  },
  {
   "cell_type": "markdown",
   "source": [
    "## Load some data\n",
    "\n",
    "We'll use MMS FPI ion distribution data as an example; this is a good case to show because the data are multi-dimensional"
   ],
   "metadata": {
    "id": "k0jqPZJZyuwj"
   }
  },
  {
   "cell_type": "code",
   "source": [
    "import pyspedas\n",
    "\n",
    "pyspedas.mms.fpi(trange=['2015-10-16/13:05', '2015-10-16/13:06'],\n",
    "                 data_rate='brst',\n",
    "                 datatype=['dis-dist', 'dis-moms'])"
   ],
   "metadata": {
    "colab": {
     "base_uri": "https://localhost:8080/"
    },
    "id": "w48mm9QPyjj1",
    "outputId": "613ae689-1c42-442b-c896-001fc95387d0"
   },
   "execution_count": null,
   "outputs": [
    {
     "output_type": "stream",
     "name": "stderr",
     "text": [
      "10-Jan-23 22:53:39: Loading pydata/mms1/fpi/brst/l2/dis-dist/2015/10/16/mms1_fpi_brst_l2_dis-dist_20151016130334_v3.3.0.cdf\n",
      "10-Jan-23 22:53:39: Loading pydata/mms1/fpi/brst/l2/dis-dist/2015/10/16/mms1_fpi_brst_l2_dis-dist_20151016130524_v3.3.0.cdf\n",
      "10-Jan-23 22:53:39: Downloading mms1_fpi_brst_l2_dis-moms_20151016130334_v3.3.0.cdf to pydata/mms1/fpi/brst/l2/dis-moms/2015/10/16\n",
      "10-Jan-23 22:53:40: Downloading mms1_fpi_brst_l2_dis-moms_20151016130524_v3.3.0.cdf to pydata/mms1/fpi/brst/l2/dis-moms/2015/10/16\n",
      "10-Jan-23 22:53:44: Loading pydata/mms1/fpi/brst/l2/dis-moms/2015/10/16/mms1_fpi_brst_l2_dis-moms_20151016130334_v3.3.0.cdf\n",
      "10-Jan-23 22:53:44: Loading pydata/mms1/fpi/brst/l2/dis-moms/2015/10/16/mms1_fpi_brst_l2_dis-moms_20151016130524_v3.3.0.cdf\n",
      "10-Jan-23 22:53:44: Loading pydata/mms1/fpi/brst/l2/dis-dist/2015/10/16/mms1_fpi_brst_l2_dis-dist_20151016130334_v3.3.0.cdf\n",
      "10-Jan-23 22:53:44: Loading pydata/mms1/fpi/brst/l2/dis-dist/2015/10/16/mms1_fpi_brst_l2_dis-dist_20151016130524_v3.3.0.cdf\n",
      "10-Jan-23 22:53:44: Problem reading the variable: mms1_des_compressionloss_brst_moms\n",
      "10-Jan-23 22:53:44: Problem reading the variable: mms1_des_compressionloss_brst_dist\n",
      "10-Jan-23 22:53:44: Problem reading the variable: mms1_des_compressionloss_brst_moms\n",
      "10-Jan-23 22:53:44: Problem reading the variable: mms1_des_compressionloss_brst_dist\n",
      "10-Jan-23 22:53:44: Loaded variables:\n",
      "10-Jan-23 22:53:44: Epoch\n",
      "10-Jan-23 22:53:44: Epoch_plus_var\n",
      "10-Jan-23 22:53:44: Epoch_minus_var\n",
      "10-Jan-23 22:53:44: mms1_dis_errorflags_brst\n",
      "10-Jan-23 22:53:44: mms1_dis_compressionloss_brst\n",
      "10-Jan-23 22:53:44: mms1_dis_steptable_parity_brst\n",
      "10-Jan-23 22:53:45: mms1_dis_startdelphi_count_brst\n",
      "10-Jan-23 22:53:45: mms1_dis_startdelphi_angle_brst\n",
      "10-Jan-23 22:53:45: mms1_dis_phi_brst\n",
      "10-Jan-23 22:53:45: mms1_dis_phi_delta_brst\n",
      "10-Jan-23 22:53:45: mms1_dis_dist_brst\n",
      "10-Jan-23 22:53:45: mms1_dis_disterr_brst\n",
      "10-Jan-23 22:53:45: mms1_dis_sector_despinp_brst\n",
      "10-Jan-23 22:53:45: mms1_dis_theta_brst\n",
      "10-Jan-23 22:53:45: mms1_dis_theta_delta_brst\n",
      "10-Jan-23 22:53:45: mms1_dis_energy_brst\n",
      "10-Jan-23 22:53:45: mms1_dis_energy_delta_brst\n",
      "10-Jan-23 22:53:45: mms1_dis_energyspectr_px_brst\n",
      "10-Jan-23 22:53:45: mms1_dis_energyspectr_mx_brst\n",
      "10-Jan-23 22:53:45: mms1_dis_energyspectr_py_brst\n",
      "10-Jan-23 22:53:45: mms1_dis_energyspectr_my_brst\n",
      "10-Jan-23 22:53:45: mms1_dis_energyspectr_pz_brst\n",
      "10-Jan-23 22:53:45: mms1_dis_energyspectr_mz_brst\n",
      "10-Jan-23 22:53:45: mms1_dis_energyspectr_omni_brst\n",
      "10-Jan-23 22:53:45: mms1_dis_spectr_bg_brst\n",
      "10-Jan-23 22:53:45: mms1_dis_numberdensity_bg_brst\n",
      "10-Jan-23 22:53:45: mms1_dis_numberdensity_brst\n"
     ]
    },
    {
     "output_type": "stream",
     "name": "stdout",
     "text": [
      "That name is currently not in pytplot\n",
      "That name is currently not in pytplot\n",
      "That name is currently not in pytplot\n",
      "That name is currently not in pytplot\n",
      "That name is currently not in pytplot\n",
      "That name is currently not in pytplot\n",
      "That name is currently not in pytplot\n",
      "That name is currently not in pytplot\n",
      "That name is currently not in pytplot\n",
      "That name is currently not in pytplot\n",
      "That name is currently not in pytplot\n",
      "That name is currently not in pytplot\n",
      "That name is currently not in pytplot\n",
      "That name is currently not in pytplot\n"
     ]
    },
    {
     "output_type": "stream",
     "name": "stderr",
     "text": [
      "10-Jan-23 22:53:45: mms1_dis_numberdensity_err_brst\n",
      "10-Jan-23 22:53:45: mms1_dis_densityextrapolation_low_brst\n",
      "10-Jan-23 22:53:45: mms1_dis_densityextrapolation_high_brst\n",
      "10-Jan-23 22:53:45: mms1_dis_bulkv_dbcs_brst\n",
      "10-Jan-23 22:53:45: mms1_dis_bulkv_spintone_dbcs_brst\n",
      "10-Jan-23 22:53:45: mms1_dis_bulkv_gse_brst\n",
      "10-Jan-23 22:53:45: mms1_dis_bulkv_spintone_gse_brst\n",
      "10-Jan-23 22:53:45: mms1_dis_bulkv_err_brst\n",
      "10-Jan-23 22:53:45: mms1_dis_prestensor_dbcs_brst\n",
      "10-Jan-23 22:53:45: mms1_dis_prestensor_gse_brst\n",
      "10-Jan-23 22:53:45: mms1_dis_prestensor_err_brst\n",
      "10-Jan-23 22:53:45: mms1_dis_pres_bg_brst\n",
      "10-Jan-23 22:53:45: mms1_dis_temptensor_dbcs_brst\n",
      "10-Jan-23 22:53:45: mms1_dis_temptensor_gse_brst\n",
      "10-Jan-23 22:53:45: mms1_dis_temptensor_err_brst\n",
      "10-Jan-23 22:53:45: mms1_dis_heatq_dbcs_brst\n",
      "10-Jan-23 22:53:45: mms1_dis_heatq_gse_brst\n",
      "10-Jan-23 22:53:45: mms1_dis_heatq_err_brst\n",
      "10-Jan-23 22:53:45: mms1_dis_temppara_brst\n",
      "10-Jan-23 22:53:45: mms1_dis_tempperp_brst\n",
      "10-Jan-23 22:53:45: mms1_dis_errorflags_brst_moms\n",
      "10-Jan-23 22:53:45: mms1_dis_compressionloss_brst_moms\n",
      "10-Jan-23 22:53:45: mms1_dis_errorflags_brst_dist\n",
      "10-Jan-23 22:53:45: mms1_dis_compressionloss_brst_dist\n",
      "10-Jan-23 22:53:45: mms1_dis_errorflags_brst_dist_flagbars_dist\n",
      "10-Jan-23 22:53:45: mms1_dis_compressionloss_brst_moms_flagbars\n",
      "10-Jan-23 22:53:45: mms1_dis_compressionloss_brst_dist_flagbars\n",
      "10-Jan-23 22:53:45: mms1_dis_errorflags_brst_moms_flagbars_full\n",
      "10-Jan-23 22:53:45: mms1_dis_errorflags_brst_moms_flagbars_main\n",
      "10-Jan-23 22:53:45: mms1_dis_errorflags_brst_moms_flagbars_others\n",
      "10-Jan-23 22:53:45: mms1_dis_errorflags_brst_moms_flagbars_mini\n",
      "10-Jan-23 22:53:45: mms1_dis_compressionloss_brst_moms_flagbars\n",
      "10-Jan-23 22:53:45: mms1_dis_compressionloss_brst_dist_flagbars\n"
     ]
    },
    {
     "output_type": "execute_result",
     "data": {
      "text/plain": [
       "['Epoch',\n",
       " 'Epoch_plus_var',\n",
       " 'Epoch_minus_var',\n",
       " 'mms1_dis_errorflags_brst',\n",
       " 'mms1_dis_compressionloss_brst',\n",
       " 'mms1_dis_steptable_parity_brst',\n",
       " 'mms1_dis_startdelphi_count_brst',\n",
       " 'mms1_dis_startdelphi_angle_brst',\n",
       " 'mms1_dis_phi_brst',\n",
       " 'mms1_dis_phi_delta_brst',\n",
       " 'mms1_dis_dist_brst',\n",
       " 'mms1_dis_disterr_brst',\n",
       " 'mms1_dis_sector_despinp_brst',\n",
       " 'mms1_dis_theta_brst',\n",
       " 'mms1_dis_theta_delta_brst',\n",
       " 'mms1_dis_energy_brst',\n",
       " 'mms1_dis_energy_delta_brst',\n",
       " 'mms1_dis_energyspectr_px_brst',\n",
       " 'mms1_dis_energyspectr_mx_brst',\n",
       " 'mms1_dis_energyspectr_py_brst',\n",
       " 'mms1_dis_energyspectr_my_brst',\n",
       " 'mms1_dis_energyspectr_pz_brst',\n",
       " 'mms1_dis_energyspectr_mz_brst',\n",
       " 'mms1_dis_energyspectr_omni_brst',\n",
       " 'mms1_dis_spectr_bg_brst',\n",
       " 'mms1_dis_numberdensity_bg_brst',\n",
       " 'mms1_dis_numberdensity_brst',\n",
       " 'mms1_dis_numberdensity_err_brst',\n",
       " 'mms1_dis_densityextrapolation_low_brst',\n",
       " 'mms1_dis_densityextrapolation_high_brst',\n",
       " 'mms1_dis_bulkv_dbcs_brst',\n",
       " 'mms1_dis_bulkv_spintone_dbcs_brst',\n",
       " 'mms1_dis_bulkv_gse_brst',\n",
       " 'mms1_dis_bulkv_spintone_gse_brst',\n",
       " 'mms1_dis_bulkv_err_brst',\n",
       " 'mms1_dis_prestensor_dbcs_brst',\n",
       " 'mms1_dis_prestensor_gse_brst',\n",
       " 'mms1_dis_prestensor_err_brst',\n",
       " 'mms1_dis_pres_bg_brst',\n",
       " 'mms1_dis_temptensor_dbcs_brst',\n",
       " 'mms1_dis_temptensor_gse_brst',\n",
       " 'mms1_dis_temptensor_err_brst',\n",
       " 'mms1_dis_heatq_dbcs_brst',\n",
       " 'mms1_dis_heatq_gse_brst',\n",
       " 'mms1_dis_heatq_err_brst',\n",
       " 'mms1_dis_temppara_brst',\n",
       " 'mms1_dis_tempperp_brst',\n",
       " 'mms1_dis_errorflags_brst_moms',\n",
       " 'mms1_dis_compressionloss_brst_moms',\n",
       " 'mms1_dis_errorflags_brst_dist',\n",
       " 'mms1_dis_compressionloss_brst_dist',\n",
       " 'mms1_dis_errorflags_brst_dist_flagbars_dist',\n",
       " 'mms1_dis_compressionloss_brst_moms_flagbars',\n",
       " 'mms1_dis_compressionloss_brst_dist_flagbars',\n",
       " 'mms1_dis_errorflags_brst_moms_flagbars_full',\n",
       " 'mms1_dis_errorflags_brst_moms_flagbars_main',\n",
       " 'mms1_dis_errorflags_brst_moms_flagbars_others',\n",
       " 'mms1_dis_errorflags_brst_moms_flagbars_mini',\n",
       " 'mms1_dis_compressionloss_brst_moms_flagbars',\n",
       " 'mms1_dis_compressionloss_brst_dist_flagbars']"
      ]
     },
     "metadata": {},
     "execution_count": 1
    }
   ]
  },
  {
   "cell_type": "markdown",
   "source": [
    "## Store data that is a function of time"
   ],
   "metadata": {
    "id": "uXcKIzFC2I0p"
   }
  },
  {
   "cell_type": "markdown",
   "source": [
    "The data are now loaded into `tplot` variables (the `t` stands for `timeseries`!); access the data:"
   ],
   "metadata": {
    "id": "LTIXcD14zE7_"
   }
  },
  {
   "cell_type": "code",
   "source": [
    "from pytplot import get_data"
   ],
   "metadata": {
    "id": "v5wr59qfy7nf"
   },
   "execution_count": null,
   "outputs": []
  },
  {
   "cell_type": "code",
   "source": [
    "data = get_data('mms1_dis_dist_brst', dt=True)"
   ],
   "metadata": {
    "id": "FTp7iTTtzQv9"
   },
   "execution_count": null,
   "outputs": []
  },
  {
   "cell_type": "markdown",
   "source": [
    "## Handle time scales with leapseconds\n",
    "\n",
    "The `dt` option tells `get_data` to return the times as a `numpy` array of type `datetime64[ns]`. These are unix times (so no leap seconds) in UTC. \n",
    "\n",
    "Note: the original dataset contains leap seconds and we remove them when loading the data. I think having this policy technically meets the requiremnt of handling time scales with leapseconds. "
   ],
   "metadata": {
    "id": "cMj_nIyHzZ3l"
   }
  },
  {
   "cell_type": "code",
   "source": [
    "data.times"
   ],
   "metadata": {
    "colab": {
     "base_uri": "https://localhost:8080/"
    },
    "id": "uizsFaNJzZS0",
    "outputId": "1289e2ed-c310-4070-9346-41824c9cb586"
   },
   "execution_count": null,
   "outputs": [
    {
     "output_type": "execute_result",
     "data": {
      "text/plain": [
       "array(['2015-10-16T13:03:34.033868000', '2015-10-16T13:03:34.183868000',\n",
       "       '2015-10-16T13:03:34.333868000', ...,\n",
       "       '2015-10-16T13:07:43.485598000', '2015-10-16T13:07:43.635598000',\n",
       "       '2015-10-16T13:07:43.785598000'], dtype='datetime64[ns]')"
      ]
     },
     "metadata": {},
     "execution_count": 4
    }
   ]
  },
  {
   "cell_type": "markdown",
   "source": [
    "## Store multi-dimensional data"
   ],
   "metadata": {
    "id": "6w8vnQml2MPK"
   }
  },
  {
   "cell_type": "markdown",
   "source": [
    "The data values are in `data.y` (note the 4D dataset, simply stored as a `numpy` array):"
   ],
   "metadata": {
    "id": "ByXMod5kzoiA"
   }
  },
  {
   "cell_type": "code",
   "source": [
    "data.y.shape"
   ],
   "metadata": {
    "colab": {
     "base_uri": "https://localhost:8080/"
    },
    "id": "Z1BPwnXszdI4",
    "outputId": "41557496-3152-4ee5-c96e-c50c5af993d3"
   },
   "execution_count": null,
   "outputs": [
    {
     "output_type": "execute_result",
     "data": {
      "text/plain": [
       "(1531, 32, 16, 32)"
      ]
     },
     "metadata": {},
     "execution_count": 5
    }
   ]
  },
  {
   "cell_type": "markdown",
   "source": [
    "## Store and use physical units with the data and any non-time indices"
   ],
   "metadata": {
    "id": "mi28u9wQ2wuf"
   }
  },
  {
   "cell_type": "markdown",
   "source": [
    "This is a function of time, energy, theta and phi. The phi values, which are time varying for this dataset, are in `v1`:"
   ],
   "metadata": {
    "id": "BusBZ_RTzvlb"
   }
  },
  {
   "cell_type": "code",
   "source": [
    "data.v1.shape"
   ],
   "metadata": {
    "colab": {
     "base_uri": "https://localhost:8080/"
    },
    "id": "zqnscD7uzrUE",
    "outputId": "3985c5b4-5a86-456b-e1cd-ab528245e424"
   },
   "execution_count": null,
   "outputs": [
    {
     "output_type": "execute_result",
     "data": {
      "text/plain": [
       "(1531, 32)"
      ]
     },
     "metadata": {},
     "execution_count": 6
    }
   ]
  },
  {
   "cell_type": "markdown",
   "source": [
    "The phi values for the first time stamp are:"
   ],
   "metadata": {
    "id": "MfczTFYX0hlx"
   }
  },
  {
   "cell_type": "code",
   "source": [
    "data.v1[0, :]"
   ],
   "metadata": {
    "colab": {
     "base_uri": "https://localhost:8080/"
    },
    "id": "NE0JviO10AMg",
    "outputId": "8179c29d-09d2-48fe-eb07-8a090c392eca"
   },
   "execution_count": null,
   "outputs": [
    {
     "output_type": "execute_result",
     "data": {
      "text/plain": [
       "array([  9.500004,  20.750004,  32.000004,  43.250004,  54.500004,\n",
       "        65.75001 ,  77.00001 ,  88.25001 ,  99.50001 , 110.75001 ,\n",
       "       122.00001 , 133.25    , 144.5     , 155.75    , 167.      ,\n",
       "       178.25    , 189.5     , 200.75    , 212.      , 223.25    ,\n",
       "       234.5     , 245.75    , 257.      , 268.25    , 279.5     ,\n",
       "       290.75    , 302.      , 313.25    , 324.5     , 335.75    ,\n",
       "       347.      , 358.25    ], dtype=float32)"
      ]
     },
     "metadata": {},
     "execution_count": 7
    }
   ]
  },
  {
   "cell_type": "markdown",
   "source": [
    "The theta values are:"
   ],
   "metadata": {
    "id": "_Tkh0KH20PeY"
   }
  },
  {
   "cell_type": "code",
   "source": [
    "data.v2.shape"
   ],
   "metadata": {
    "colab": {
     "base_uri": "https://localhost:8080/"
    },
    "id": "QiFXDww50L8f",
    "outputId": "ae100fff-4476-4973-9bbe-4cd368a56ba4"
   },
   "execution_count": null,
   "outputs": [
    {
     "output_type": "execute_result",
     "data": {
      "text/plain": [
       "(16,)"
      ]
     },
     "metadata": {},
     "execution_count": 8
    }
   ]
  },
  {
   "cell_type": "code",
   "source": [
    "data.v2"
   ],
   "metadata": {
    "colab": {
     "base_uri": "https://localhost:8080/"
    },
    "id": "SszO0C9I0N7d",
    "outputId": "6dd9c1b5-a9fb-426d-b3fa-3acbc68ecebf"
   },
   "execution_count": null,
   "outputs": [
    {
     "output_type": "execute_result",
     "data": {
      "text/plain": [
       "array([  5.625,  16.875,  28.125,  39.375,  50.625,  61.875,  73.125,\n",
       "        84.375,  95.625, 106.875, 118.125, 129.375, 140.625, 151.875,\n",
       "       163.125, 174.375], dtype=float32)"
      ]
     },
     "metadata": {},
     "execution_count": 9
    }
   ]
  },
  {
   "cell_type": "markdown",
   "source": [
    "And the energy values are (also time varying for this dataset):"
   ],
   "metadata": {
    "id": "qsM13imV0RHH"
   }
  },
  {
   "cell_type": "code",
   "source": [
    "data.v3.shape"
   ],
   "metadata": {
    "colab": {
     "base_uri": "https://localhost:8080/"
    },
    "id": "z3oVYdTA0OlR",
    "outputId": "e5860a7f-ec8f-470e-a0cf-8749183603c7"
   },
   "execution_count": null,
   "outputs": [
    {
     "output_type": "execute_result",
     "data": {
      "text/plain": [
       "(1531, 32)"
      ]
     },
     "metadata": {},
     "execution_count": 10
    }
   ]
  },
  {
   "cell_type": "markdown",
   "source": [
    "So the energy table for the first timestamp are:"
   ],
   "metadata": {
    "id": "ARAi6ReV0fAy"
   }
  },
  {
   "cell_type": "code",
   "source": [
    "data.v3[0, :]"
   ],
   "metadata": {
    "colab": {
     "base_uri": "https://localhost:8080/"
    },
    "id": "q9bg5RWu0TOv",
    "outputId": "c381aa9c-ff20-42b6-ab75-86b2ac342e22"
   },
   "execution_count": null,
   "outputs": [
    {
     "output_type": "execute_result",
     "data": {
      "text/plain": [
       "array([1.206000e+01, 1.549000e+01, 1.989000e+01, 2.555000e+01,\n",
       "       3.282000e+01, 4.216000e+01, 5.415000e+01, 6.956000e+01,\n",
       "       8.934000e+01, 1.147600e+02, 1.474100e+02, 1.893400e+02,\n",
       "       2.432100e+02, 3.124000e+02, 4.012700e+02, 5.154200e+02,\n",
       "       6.620500e+02, 8.503900e+02, 1.092310e+03, 1.403060e+03,\n",
       "       1.802200e+03, 2.314900e+03, 2.973450e+03, 3.819340e+03,\n",
       "       4.905880e+03, 6.301520e+03, 8.094190e+03, 1.039685e+04,\n",
       "       1.335458e+04, 1.715373e+04, 2.203368e+04, 2.830189e+04],\n",
       "      dtype=float32)"
      ]
     },
     "metadata": {},
     "execution_count": 11
    }
   ]
  },
  {
   "cell_type": "markdown",
   "source": [
    "## Store data in a format that can be used with scientific Python libraries\n",
    "\n",
    "Since all of the data are available as `numpy` arrays, I think this requirement is met, but you can also access the underlying `xarray` object using `get_data`:"
   ],
   "metadata": {
    "id": "S6YaShea27Zs"
   }
  },
  {
   "cell_type": "code",
   "source": [
    "xrdata = get_data('mms1_dis_dist_brst', xarray=True)"
   ],
   "metadata": {
    "id": "MyXkhA0d1yWg"
   },
   "execution_count": null,
   "outputs": []
  },
  {
   "cell_type": "code",
   "source": [
    "xrdata"
   ],
   "metadata": {
    "colab": {
     "base_uri": "https://localhost:8080/",
     "height": 1000
    },
    "id": "AckD0B4L13Kd",
    "outputId": "5dc6e9fa-6339-4afb-c6d5-8137c830cfcb"
   },
   "execution_count": null,
   "outputs": [
    {
     "output_type": "execute_result",
     "data": {
      "text/plain": [
       "<xarray.DataArray 'mms1_dis_dist_brst' (time: 1531, v1_dim: 32, v2_dim: 16,\n",
       "                                        v3_dim: 32)>\n",
       "array([[[[0.00000000e+00, 0.00000000e+00, 0.00000000e+00, ...,\n",
       "          0.00000000e+00, 0.00000000e+00, 0.00000000e+00],\n",
       "         [0.00000000e+00, 0.00000000e+00, 0.00000000e+00, ...,\n",
       "          0.00000000e+00, 0.00000000e+00, 0.00000000e+00],\n",
       "         [0.00000000e+00, 0.00000000e+00, 0.00000000e+00, ...,\n",
       "          0.00000000e+00, 0.00000000e+00, 2.21562505e-27],\n",
       "         ...,\n",
       "         [0.00000000e+00, 0.00000000e+00, 0.00000000e+00, ...,\n",
       "          6.31603333e-27, 0.00000000e+00, 0.00000000e+00],\n",
       "         [0.00000000e+00, 0.00000000e+00, 0.00000000e+00, ...,\n",
       "          0.00000000e+00, 0.00000000e+00, 0.00000000e+00],\n",
       "         [0.00000000e+00, 0.00000000e+00, 0.00000000e+00, ...,\n",
       "          6.08148318e-27, 0.00000000e+00, 0.00000000e+00]],\n",
       "\n",
       "        [[0.00000000e+00, 0.00000000e+00, 0.00000000e+00, ...,\n",
       "          0.00000000e+00, 0.00000000e+00, 0.00000000e+00],\n",
       "         [0.00000000e+00, 0.00000000e+00, 0.00000000e+00, ...,\n",
       "          0.00000000e+00, 0.00000000e+00, 0.00000000e+00],\n",
       "         [0.00000000e+00, 0.00000000e+00, 0.00000000e+00, ...,\n",
       "          0.00000000e+00, 0.00000000e+00, 0.00000000e+00],\n",
       "...\n",
       "          0.00000000e+00, 0.00000000e+00, 0.00000000e+00],\n",
       "         [0.00000000e+00, 0.00000000e+00, 0.00000000e+00, ...,\n",
       "          0.00000000e+00, 0.00000000e+00, 0.00000000e+00],\n",
       "         [0.00000000e+00, 0.00000000e+00, 0.00000000e+00, ...,\n",
       "          0.00000000e+00, 0.00000000e+00, 0.00000000e+00]],\n",
       "\n",
       "        [[1.23251551e-20, 0.00000000e+00, 0.00000000e+00, ...,\n",
       "          0.00000000e+00, 0.00000000e+00, 0.00000000e+00],\n",
       "         [0.00000000e+00, 0.00000000e+00, 0.00000000e+00, ...,\n",
       "          0.00000000e+00, 0.00000000e+00, 0.00000000e+00],\n",
       "         [0.00000000e+00, 0.00000000e+00, 0.00000000e+00, ...,\n",
       "          8.42857433e-27, 0.00000000e+00, 0.00000000e+00],\n",
       "         ...,\n",
       "         [0.00000000e+00, 0.00000000e+00, 0.00000000e+00, ...,\n",
       "          0.00000000e+00, 5.33773217e-27, 0.00000000e+00],\n",
       "         [0.00000000e+00, 0.00000000e+00, 0.00000000e+00, ...,\n",
       "          0.00000000e+00, 0.00000000e+00, 0.00000000e+00],\n",
       "         [0.00000000e+00, 0.00000000e+00, 0.00000000e+00, ...,\n",
       "          0.00000000e+00, 0.00000000e+00, 0.00000000e+00]]]],\n",
       "      dtype=float32)\n",
       "Coordinates:\n",
       "  * time       (time) datetime64[ns] 2015-10-16T13:03:34.033868 ... 2015-10-1...\n",
       "    spec_bins  (v2_dim) float32 5.625 16.88 28.12 39.38 ... 151.9 163.1 174.4\n",
       "    v1         (time, v1_dim) float32 9.5 20.75 32.0 43.25 ... 334.8 346.0 357.2\n",
       "    v2         (v2_dim) float32 5.625 16.88 28.12 39.38 ... 151.9 163.1 174.4\n",
       "    v3         (time, v3_dim) float32 12.06 15.49 19.89 ... 1.944e+04 2.497e+04\n",
       "Dimensions without coordinates: v1_dim, v2_dim, v3_dim\n",
       "Attributes:\n",
       "    CDF:           {'VATT': {'CATDESC': 'MMS1 FPI/DIS burst sky-map instrumen...\n",
       "    plot_options:  {'xaxis_opt': {'axis_label': 'Time', 'crosshair': 'X', 'x_..."
      ],
      "text/html": [
       "<div><svg style=\"position: absolute; width: 0; height: 0; overflow: hidden\">\n",
       "<defs>\n",
       "<symbol id=\"icon-database\" viewBox=\"0 0 32 32\">\n",
       "<path d=\"M16 0c-8.837 0-16 2.239-16 5v4c0 2.761 7.163 5 16 5s16-2.239 16-5v-4c0-2.761-7.163-5-16-5z\"></path>\n",
       "<path d=\"M16 17c-8.837 0-16-2.239-16-5v6c0 2.761 7.163 5 16 5s16-2.239 16-5v-6c0 2.761-7.163 5-16 5z\"></path>\n",
       "<path d=\"M16 26c-8.837 0-16-2.239-16-5v6c0 2.761 7.163 5 16 5s16-2.239 16-5v-6c0 2.761-7.163 5-16 5z\"></path>\n",
       "</symbol>\n",
       "<symbol id=\"icon-file-text2\" viewBox=\"0 0 32 32\">\n",
       "<path d=\"M28.681 7.159c-0.694-0.947-1.662-2.053-2.724-3.116s-2.169-2.030-3.116-2.724c-1.612-1.182-2.393-1.319-2.841-1.319h-15.5c-1.378 0-2.5 1.121-2.5 2.5v27c0 1.378 1.122 2.5 2.5 2.5h23c1.378 0 2.5-1.122 2.5-2.5v-19.5c0-0.448-0.137-1.23-1.319-2.841zM24.543 5.457c0.959 0.959 1.712 1.825 2.268 2.543h-4.811v-4.811c0.718 0.556 1.584 1.309 2.543 2.268zM28 29.5c0 0.271-0.229 0.5-0.5 0.5h-23c-0.271 0-0.5-0.229-0.5-0.5v-27c0-0.271 0.229-0.5 0.5-0.5 0 0 15.499-0 15.5 0v7c0 0.552 0.448 1 1 1h7v19.5z\"></path>\n",
       "<path d=\"M23 26h-14c-0.552 0-1-0.448-1-1s0.448-1 1-1h14c0.552 0 1 0.448 1 1s-0.448 1-1 1z\"></path>\n",
       "<path d=\"M23 22h-14c-0.552 0-1-0.448-1-1s0.448-1 1-1h14c0.552 0 1 0.448 1 1s-0.448 1-1 1z\"></path>\n",
       "<path d=\"M23 18h-14c-0.552 0-1-0.448-1-1s0.448-1 1-1h14c0.552 0 1 0.448 1 1s-0.448 1-1 1z\"></path>\n",
       "</symbol>\n",
       "</defs>\n",
       "</svg>\n",
       "<style>/* CSS stylesheet for displaying xarray objects in jupyterlab.\n",
       " *\n",
       " */\n",
       "\n",
       ":root {\n",
       "  --xr-font-color0: var(--jp-content-font-color0, rgba(0, 0, 0, 1));\n",
       "  --xr-font-color2: var(--jp-content-font-color2, rgba(0, 0, 0, 0.54));\n",
       "  --xr-font-color3: var(--jp-content-font-color3, rgba(0, 0, 0, 0.38));\n",
       "  --xr-border-color: var(--jp-border-color2, #e0e0e0);\n",
       "  --xr-disabled-color: var(--jp-layout-color3, #bdbdbd);\n",
       "  --xr-background-color: var(--jp-layout-color0, white);\n",
       "  --xr-background-color-row-even: var(--jp-layout-color1, white);\n",
       "  --xr-background-color-row-odd: var(--jp-layout-color2, #eeeeee);\n",
       "}\n",
       "\n",
       "html[theme=dark],\n",
       "body[data-theme=dark],\n",
       "body.vscode-dark {\n",
       "  --xr-font-color0: rgba(255, 255, 255, 1);\n",
       "  --xr-font-color2: rgba(255, 255, 255, 0.54);\n",
       "  --xr-font-color3: rgba(255, 255, 255, 0.38);\n",
       "  --xr-border-color: #1F1F1F;\n",
       "  --xr-disabled-color: #515151;\n",
       "  --xr-background-color: #111111;\n",
       "  --xr-background-color-row-even: #111111;\n",
       "  --xr-background-color-row-odd: #313131;\n",
       "}\n",
       "\n",
       ".xr-wrap {\n",
       "  display: block !important;\n",
       "  min-width: 300px;\n",
       "  max-width: 700px;\n",
       "}\n",
       "\n",
       ".xr-text-repr-fallback {\n",
       "  /* fallback to plain text repr when CSS is not injected (untrusted notebook) */\n",
       "  display: none;\n",
       "}\n",
       "\n",
       ".xr-header {\n",
       "  padding-top: 6px;\n",
       "  padding-bottom: 6px;\n",
       "  margin-bottom: 4px;\n",
       "  border-bottom: solid 1px var(--xr-border-color);\n",
       "}\n",
       "\n",
       ".xr-header > div,\n",
       ".xr-header > ul {\n",
       "  display: inline;\n",
       "  margin-top: 0;\n",
       "  margin-bottom: 0;\n",
       "}\n",
       "\n",
       ".xr-obj-type,\n",
       ".xr-array-name {\n",
       "  margin-left: 2px;\n",
       "  margin-right: 10px;\n",
       "}\n",
       "\n",
       ".xr-obj-type {\n",
       "  color: var(--xr-font-color2);\n",
       "}\n",
       "\n",
       ".xr-sections {\n",
       "  padding-left: 0 !important;\n",
       "  display: grid;\n",
       "  grid-template-columns: 150px auto auto 1fr 20px 20px;\n",
       "}\n",
       "\n",
       ".xr-section-item {\n",
       "  display: contents;\n",
       "}\n",
       "\n",
       ".xr-section-item input {\n",
       "  display: none;\n",
       "}\n",
       "\n",
       ".xr-section-item input + label {\n",
       "  color: var(--xr-disabled-color);\n",
       "}\n",
       "\n",
       ".xr-section-item input:enabled + label {\n",
       "  cursor: pointer;\n",
       "  color: var(--xr-font-color2);\n",
       "}\n",
       "\n",
       ".xr-section-item input:enabled + label:hover {\n",
       "  color: var(--xr-font-color0);\n",
       "}\n",
       "\n",
       ".xr-section-summary {\n",
       "  grid-column: 1;\n",
       "  color: var(--xr-font-color2);\n",
       "  font-weight: 500;\n",
       "}\n",
       "\n",
       ".xr-section-summary > span {\n",
       "  display: inline-block;\n",
       "  padding-left: 0.5em;\n",
       "}\n",
       "\n",
       ".xr-section-summary-in:disabled + label {\n",
       "  color: var(--xr-font-color2);\n",
       "}\n",
       "\n",
       ".xr-section-summary-in + label:before {\n",
       "  display: inline-block;\n",
       "  content: '►';\n",
       "  font-size: 11px;\n",
       "  width: 15px;\n",
       "  text-align: center;\n",
       "}\n",
       "\n",
       ".xr-section-summary-in:disabled + label:before {\n",
       "  color: var(--xr-disabled-color);\n",
       "}\n",
       "\n",
       ".xr-section-summary-in:checked + label:before {\n",
       "  content: '▼';\n",
       "}\n",
       "\n",
       ".xr-section-summary-in:checked + label > span {\n",
       "  display: none;\n",
       "}\n",
       "\n",
       ".xr-section-summary,\n",
       ".xr-section-inline-details {\n",
       "  padding-top: 4px;\n",
       "  padding-bottom: 4px;\n",
       "}\n",
       "\n",
       ".xr-section-inline-details {\n",
       "  grid-column: 2 / -1;\n",
       "}\n",
       "\n",
       ".xr-section-details {\n",
       "  display: none;\n",
       "  grid-column: 1 / -1;\n",
       "  margin-bottom: 5px;\n",
       "}\n",
       "\n",
       ".xr-section-summary-in:checked ~ .xr-section-details {\n",
       "  display: contents;\n",
       "}\n",
       "\n",
       ".xr-array-wrap {\n",
       "  grid-column: 1 / -1;\n",
       "  display: grid;\n",
       "  grid-template-columns: 20px auto;\n",
       "}\n",
       "\n",
       ".xr-array-wrap > label {\n",
       "  grid-column: 1;\n",
       "  vertical-align: top;\n",
       "}\n",
       "\n",
       ".xr-preview {\n",
       "  color: var(--xr-font-color3);\n",
       "}\n",
       "\n",
       ".xr-array-preview,\n",
       ".xr-array-data {\n",
       "  padding: 0 5px !important;\n",
       "  grid-column: 2;\n",
       "}\n",
       "\n",
       ".xr-array-data,\n",
       ".xr-array-in:checked ~ .xr-array-preview {\n",
       "  display: none;\n",
       "}\n",
       "\n",
       ".xr-array-in:checked ~ .xr-array-data,\n",
       ".xr-array-preview {\n",
       "  display: inline-block;\n",
       "}\n",
       "\n",
       ".xr-dim-list {\n",
       "  display: inline-block !important;\n",
       "  list-style: none;\n",
       "  padding: 0 !important;\n",
       "  margin: 0;\n",
       "}\n",
       "\n",
       ".xr-dim-list li {\n",
       "  display: inline-block;\n",
       "  padding: 0;\n",
       "  margin: 0;\n",
       "}\n",
       "\n",
       ".xr-dim-list:before {\n",
       "  content: '(';\n",
       "}\n",
       "\n",
       ".xr-dim-list:after {\n",
       "  content: ')';\n",
       "}\n",
       "\n",
       ".xr-dim-list li:not(:last-child):after {\n",
       "  content: ',';\n",
       "  padding-right: 5px;\n",
       "}\n",
       "\n",
       ".xr-has-index {\n",
       "  font-weight: bold;\n",
       "}\n",
       "\n",
       ".xr-var-list,\n",
       ".xr-var-item {\n",
       "  display: contents;\n",
       "}\n",
       "\n",
       ".xr-var-item > div,\n",
       ".xr-var-item label,\n",
       ".xr-var-item > .xr-var-name span {\n",
       "  background-color: var(--xr-background-color-row-even);\n",
       "  margin-bottom: 0;\n",
       "}\n",
       "\n",
       ".xr-var-item > .xr-var-name:hover span {\n",
       "  padding-right: 5px;\n",
       "}\n",
       "\n",
       ".xr-var-list > li:nth-child(odd) > div,\n",
       ".xr-var-list > li:nth-child(odd) > label,\n",
       ".xr-var-list > li:nth-child(odd) > .xr-var-name span {\n",
       "  background-color: var(--xr-background-color-row-odd);\n",
       "}\n",
       "\n",
       ".xr-var-name {\n",
       "  grid-column: 1;\n",
       "}\n",
       "\n",
       ".xr-var-dims {\n",
       "  grid-column: 2;\n",
       "}\n",
       "\n",
       ".xr-var-dtype {\n",
       "  grid-column: 3;\n",
       "  text-align: right;\n",
       "  color: var(--xr-font-color2);\n",
       "}\n",
       "\n",
       ".xr-var-preview {\n",
       "  grid-column: 4;\n",
       "}\n",
       "\n",
       ".xr-index-preview {\n",
       "  grid-column: 2 / 5;\n",
       "  color: var(--xr-font-color2);\n",
       "}\n",
       "\n",
       ".xr-var-name,\n",
       ".xr-var-dims,\n",
       ".xr-var-dtype,\n",
       ".xr-preview,\n",
       ".xr-attrs dt {\n",
       "  white-space: nowrap;\n",
       "  overflow: hidden;\n",
       "  text-overflow: ellipsis;\n",
       "  padding-right: 10px;\n",
       "}\n",
       "\n",
       ".xr-var-name:hover,\n",
       ".xr-var-dims:hover,\n",
       ".xr-var-dtype:hover,\n",
       ".xr-attrs dt:hover {\n",
       "  overflow: visible;\n",
       "  width: auto;\n",
       "  z-index: 1;\n",
       "}\n",
       "\n",
       ".xr-var-attrs,\n",
       ".xr-var-data,\n",
       ".xr-index-data {\n",
       "  display: none;\n",
       "  background-color: var(--xr-background-color) !important;\n",
       "  padding-bottom: 5px !important;\n",
       "}\n",
       "\n",
       ".xr-var-attrs-in:checked ~ .xr-var-attrs,\n",
       ".xr-var-data-in:checked ~ .xr-var-data,\n",
       ".xr-index-data-in:checked ~ .xr-index-data {\n",
       "  display: block;\n",
       "}\n",
       "\n",
       ".xr-var-data > table {\n",
       "  float: right;\n",
       "}\n",
       "\n",
       ".xr-var-name span,\n",
       ".xr-var-data,\n",
       ".xr-index-name div,\n",
       ".xr-index-data,\n",
       ".xr-attrs {\n",
       "  padding-left: 25px !important;\n",
       "}\n",
       "\n",
       ".xr-attrs,\n",
       ".xr-var-attrs,\n",
       ".xr-var-data,\n",
       ".xr-index-data {\n",
       "  grid-column: 1 / -1;\n",
       "}\n",
       "\n",
       "dl.xr-attrs {\n",
       "  padding: 0;\n",
       "  margin: 0;\n",
       "  display: grid;\n",
       "  grid-template-columns: 125px auto;\n",
       "}\n",
       "\n",
       ".xr-attrs dt,\n",
       ".xr-attrs dd {\n",
       "  padding: 0;\n",
       "  margin: 0;\n",
       "  float: left;\n",
       "  padding-right: 10px;\n",
       "  width: auto;\n",
       "}\n",
       "\n",
       ".xr-attrs dt {\n",
       "  font-weight: normal;\n",
       "  grid-column: 1;\n",
       "}\n",
       "\n",
       ".xr-attrs dt:hover span {\n",
       "  display: inline-block;\n",
       "  background: var(--xr-background-color);\n",
       "  padding-right: 10px;\n",
       "}\n",
       "\n",
       ".xr-attrs dd {\n",
       "  grid-column: 2;\n",
       "  white-space: pre-wrap;\n",
       "  word-break: break-all;\n",
       "}\n",
       "\n",
       ".xr-icon-database,\n",
       ".xr-icon-file-text2,\n",
       ".xr-no-icon {\n",
       "  display: inline-block;\n",
       "  vertical-align: middle;\n",
       "  width: 1em;\n",
       "  height: 1.5em !important;\n",
       "  stroke-width: 0;\n",
       "  stroke: currentColor;\n",
       "  fill: currentColor;\n",
       "}\n",
       "</style><pre class='xr-text-repr-fallback'>&lt;xarray.DataArray &#x27;mms1_dis_dist_brst&#x27; (time: 1531, v1_dim: 32, v2_dim: 16,\n",
       "                                        v3_dim: 32)&gt;\n",
       "array([[[[0.00000000e+00, 0.00000000e+00, 0.00000000e+00, ...,\n",
       "          0.00000000e+00, 0.00000000e+00, 0.00000000e+00],\n",
       "         [0.00000000e+00, 0.00000000e+00, 0.00000000e+00, ...,\n",
       "          0.00000000e+00, 0.00000000e+00, 0.00000000e+00],\n",
       "         [0.00000000e+00, 0.00000000e+00, 0.00000000e+00, ...,\n",
       "          0.00000000e+00, 0.00000000e+00, 2.21562505e-27],\n",
       "         ...,\n",
       "         [0.00000000e+00, 0.00000000e+00, 0.00000000e+00, ...,\n",
       "          6.31603333e-27, 0.00000000e+00, 0.00000000e+00],\n",
       "         [0.00000000e+00, 0.00000000e+00, 0.00000000e+00, ...,\n",
       "          0.00000000e+00, 0.00000000e+00, 0.00000000e+00],\n",
       "         [0.00000000e+00, 0.00000000e+00, 0.00000000e+00, ...,\n",
       "          6.08148318e-27, 0.00000000e+00, 0.00000000e+00]],\n",
       "\n",
       "        [[0.00000000e+00, 0.00000000e+00, 0.00000000e+00, ...,\n",
       "          0.00000000e+00, 0.00000000e+00, 0.00000000e+00],\n",
       "         [0.00000000e+00, 0.00000000e+00, 0.00000000e+00, ...,\n",
       "          0.00000000e+00, 0.00000000e+00, 0.00000000e+00],\n",
       "         [0.00000000e+00, 0.00000000e+00, 0.00000000e+00, ...,\n",
       "          0.00000000e+00, 0.00000000e+00, 0.00000000e+00],\n",
       "...\n",
       "          0.00000000e+00, 0.00000000e+00, 0.00000000e+00],\n",
       "         [0.00000000e+00, 0.00000000e+00, 0.00000000e+00, ...,\n",
       "          0.00000000e+00, 0.00000000e+00, 0.00000000e+00],\n",
       "         [0.00000000e+00, 0.00000000e+00, 0.00000000e+00, ...,\n",
       "          0.00000000e+00, 0.00000000e+00, 0.00000000e+00]],\n",
       "\n",
       "        [[1.23251551e-20, 0.00000000e+00, 0.00000000e+00, ...,\n",
       "          0.00000000e+00, 0.00000000e+00, 0.00000000e+00],\n",
       "         [0.00000000e+00, 0.00000000e+00, 0.00000000e+00, ...,\n",
       "          0.00000000e+00, 0.00000000e+00, 0.00000000e+00],\n",
       "         [0.00000000e+00, 0.00000000e+00, 0.00000000e+00, ...,\n",
       "          8.42857433e-27, 0.00000000e+00, 0.00000000e+00],\n",
       "         ...,\n",
       "         [0.00000000e+00, 0.00000000e+00, 0.00000000e+00, ...,\n",
       "          0.00000000e+00, 5.33773217e-27, 0.00000000e+00],\n",
       "         [0.00000000e+00, 0.00000000e+00, 0.00000000e+00, ...,\n",
       "          0.00000000e+00, 0.00000000e+00, 0.00000000e+00],\n",
       "         [0.00000000e+00, 0.00000000e+00, 0.00000000e+00, ...,\n",
       "          0.00000000e+00, 0.00000000e+00, 0.00000000e+00]]]],\n",
       "      dtype=float32)\n",
       "Coordinates:\n",
       "  * time       (time) datetime64[ns] 2015-10-16T13:03:34.033868 ... 2015-10-1...\n",
       "    spec_bins  (v2_dim) float32 5.625 16.88 28.12 39.38 ... 151.9 163.1 174.4\n",
       "    v1         (time, v1_dim) float32 9.5 20.75 32.0 43.25 ... 334.8 346.0 357.2\n",
       "    v2         (v2_dim) float32 5.625 16.88 28.12 39.38 ... 151.9 163.1 174.4\n",
       "    v3         (time, v3_dim) float32 12.06 15.49 19.89 ... 1.944e+04 2.497e+04\n",
       "Dimensions without coordinates: v1_dim, v2_dim, v3_dim\n",
       "Attributes:\n",
       "    CDF:           {&#x27;VATT&#x27;: {&#x27;CATDESC&#x27;: &#x27;MMS1 FPI/DIS burst sky-map instrumen...\n",
       "    plot_options:  {&#x27;xaxis_opt&#x27;: {&#x27;axis_label&#x27;: &#x27;Time&#x27;, &#x27;crosshair&#x27;: &#x27;X&#x27;, &#x27;x_...</pre><div class='xr-wrap' style='display:none'><div class='xr-header'><div class='xr-obj-type'>xarray.DataArray</div><div class='xr-array-name'>'mms1_dis_dist_brst'</div><ul class='xr-dim-list'><li><span class='xr-has-index'>time</span>: 1531</li><li><span>v1_dim</span>: 32</li><li><span>v2_dim</span>: 16</li><li><span>v3_dim</span>: 32</li></ul></div><ul class='xr-sections'><li class='xr-section-item'><div class='xr-array-wrap'><input id='section-e7471821-278e-4917-983a-d22dde2c0823' class='xr-array-in' type='checkbox' checked><label for='section-e7471821-278e-4917-983a-d22dde2c0823' title='Show/hide data repr'><svg class='icon xr-icon-database'><use xlink:href='#icon-database'></use></svg></label><div class='xr-array-preview xr-preview'><span>0.0 0.0 0.0 0.0 0.0 0.0 0.0 0.0 ... 0.0 0.0 0.0 0.0 0.0 0.0 0.0 0.0</span></div><div class='xr-array-data'><pre>array([[[[0.00000000e+00, 0.00000000e+00, 0.00000000e+00, ...,\n",
       "          0.00000000e+00, 0.00000000e+00, 0.00000000e+00],\n",
       "         [0.00000000e+00, 0.00000000e+00, 0.00000000e+00, ...,\n",
       "          0.00000000e+00, 0.00000000e+00, 0.00000000e+00],\n",
       "         [0.00000000e+00, 0.00000000e+00, 0.00000000e+00, ...,\n",
       "          0.00000000e+00, 0.00000000e+00, 2.21562505e-27],\n",
       "         ...,\n",
       "         [0.00000000e+00, 0.00000000e+00, 0.00000000e+00, ...,\n",
       "          6.31603333e-27, 0.00000000e+00, 0.00000000e+00],\n",
       "         [0.00000000e+00, 0.00000000e+00, 0.00000000e+00, ...,\n",
       "          0.00000000e+00, 0.00000000e+00, 0.00000000e+00],\n",
       "         [0.00000000e+00, 0.00000000e+00, 0.00000000e+00, ...,\n",
       "          6.08148318e-27, 0.00000000e+00, 0.00000000e+00]],\n",
       "\n",
       "        [[0.00000000e+00, 0.00000000e+00, 0.00000000e+00, ...,\n",
       "          0.00000000e+00, 0.00000000e+00, 0.00000000e+00],\n",
       "         [0.00000000e+00, 0.00000000e+00, 0.00000000e+00, ...,\n",
       "          0.00000000e+00, 0.00000000e+00, 0.00000000e+00],\n",
       "         [0.00000000e+00, 0.00000000e+00, 0.00000000e+00, ...,\n",
       "          0.00000000e+00, 0.00000000e+00, 0.00000000e+00],\n",
       "...\n",
       "          0.00000000e+00, 0.00000000e+00, 0.00000000e+00],\n",
       "         [0.00000000e+00, 0.00000000e+00, 0.00000000e+00, ...,\n",
       "          0.00000000e+00, 0.00000000e+00, 0.00000000e+00],\n",
       "         [0.00000000e+00, 0.00000000e+00, 0.00000000e+00, ...,\n",
       "          0.00000000e+00, 0.00000000e+00, 0.00000000e+00]],\n",
       "\n",
       "        [[1.23251551e-20, 0.00000000e+00, 0.00000000e+00, ...,\n",
       "          0.00000000e+00, 0.00000000e+00, 0.00000000e+00],\n",
       "         [0.00000000e+00, 0.00000000e+00, 0.00000000e+00, ...,\n",
       "          0.00000000e+00, 0.00000000e+00, 0.00000000e+00],\n",
       "         [0.00000000e+00, 0.00000000e+00, 0.00000000e+00, ...,\n",
       "          8.42857433e-27, 0.00000000e+00, 0.00000000e+00],\n",
       "         ...,\n",
       "         [0.00000000e+00, 0.00000000e+00, 0.00000000e+00, ...,\n",
       "          0.00000000e+00, 5.33773217e-27, 0.00000000e+00],\n",
       "         [0.00000000e+00, 0.00000000e+00, 0.00000000e+00, ...,\n",
       "          0.00000000e+00, 0.00000000e+00, 0.00000000e+00],\n",
       "         [0.00000000e+00, 0.00000000e+00, 0.00000000e+00, ...,\n",
       "          0.00000000e+00, 0.00000000e+00, 0.00000000e+00]]]],\n",
       "      dtype=float32)</pre></div></div></li><li class='xr-section-item'><input id='section-f2b23a85-dcd9-48a0-a78a-a547ac34d722' class='xr-section-summary-in' type='checkbox'  checked><label for='section-f2b23a85-dcd9-48a0-a78a-a547ac34d722' class='xr-section-summary' >Coordinates: <span>(5)</span></label><div class='xr-section-inline-details'></div><div class='xr-section-details'><ul class='xr-var-list'><li class='xr-var-item'><div class='xr-var-name'><span class='xr-has-index'>time</span></div><div class='xr-var-dims'>(time)</div><div class='xr-var-dtype'>datetime64[ns]</div><div class='xr-var-preview xr-preview'>2015-10-16T13:03:34.033868 ... 2...</div><input id='attrs-70f0fa9c-3983-471d-8fbb-a108febc7b5d' class='xr-var-attrs-in' type='checkbox' disabled><label for='attrs-70f0fa9c-3983-471d-8fbb-a108febc7b5d' title='Show/Hide attributes'><svg class='icon xr-icon-file-text2'><use xlink:href='#icon-file-text2'></use></svg></label><input id='data-135b83d1-9ada-4f79-98e6-c7c5b67dc1da' class='xr-var-data-in' type='checkbox'><label for='data-135b83d1-9ada-4f79-98e6-c7c5b67dc1da' title='Show/Hide data repr'><svg class='icon xr-icon-database'><use xlink:href='#icon-database'></use></svg></label><div class='xr-var-attrs'><dl class='xr-attrs'></dl></div><div class='xr-var-data'><pre>array([&#x27;2015-10-16T13:03:34.033868000&#x27;, &#x27;2015-10-16T13:03:34.183868000&#x27;,\n",
       "       &#x27;2015-10-16T13:03:34.333868000&#x27;, ..., &#x27;2015-10-16T13:07:43.485598000&#x27;,\n",
       "       &#x27;2015-10-16T13:07:43.635598000&#x27;, &#x27;2015-10-16T13:07:43.785598000&#x27;],\n",
       "      dtype=&#x27;datetime64[ns]&#x27;)</pre></div></li><li class='xr-var-item'><div class='xr-var-name'><span>spec_bins</span></div><div class='xr-var-dims'>(v2_dim)</div><div class='xr-var-dtype'>float32</div><div class='xr-var-preview xr-preview'>5.625 16.88 28.12 ... 163.1 174.4</div><input id='attrs-b74aca3c-01da-4501-b6c5-b8b63c7f87ae' class='xr-var-attrs-in' type='checkbox' disabled><label for='attrs-b74aca3c-01da-4501-b6c5-b8b63c7f87ae' title='Show/Hide attributes'><svg class='icon xr-icon-file-text2'><use xlink:href='#icon-file-text2'></use></svg></label><input id='data-b3f6a966-ccd9-4283-a1f4-5ec0a21ad4e2' class='xr-var-data-in' type='checkbox'><label for='data-b3f6a966-ccd9-4283-a1f4-5ec0a21ad4e2' title='Show/Hide data repr'><svg class='icon xr-icon-database'><use xlink:href='#icon-database'></use></svg></label><div class='xr-var-attrs'><dl class='xr-attrs'></dl></div><div class='xr-var-data'><pre>array([  5.625,  16.875,  28.125,  39.375,  50.625,  61.875,  73.125,\n",
       "        84.375,  95.625, 106.875, 118.125, 129.375, 140.625, 151.875,\n",
       "       163.125, 174.375], dtype=float32)</pre></div></li><li class='xr-var-item'><div class='xr-var-name'><span>v1</span></div><div class='xr-var-dims'>(time, v1_dim)</div><div class='xr-var-dtype'>float32</div><div class='xr-var-preview xr-preview'>9.5 20.75 32.0 ... 346.0 357.2</div><input id='attrs-21885974-fe35-405c-8827-fd27d285aef7' class='xr-var-attrs-in' type='checkbox' disabled><label for='attrs-21885974-fe35-405c-8827-fd27d285aef7' title='Show/Hide attributes'><svg class='icon xr-icon-file-text2'><use xlink:href='#icon-file-text2'></use></svg></label><input id='data-a05da904-9afd-40b4-b929-5e08e790d657' class='xr-var-data-in' type='checkbox'><label for='data-a05da904-9afd-40b4-b929-5e08e790d657' title='Show/Hide data repr'><svg class='icon xr-icon-database'><use xlink:href='#icon-database'></use></svg></label><div class='xr-var-attrs'><dl class='xr-attrs'></dl></div><div class='xr-var-data'><pre>array([[  9.500004 ,  20.750004 ,  32.000004 , ..., 335.75     ,\n",
       "        347.       , 358.25     ],\n",
       "       [  0.9999981,  12.249998 ,  23.499998 , ..., 327.25     ,\n",
       "        338.5      , 349.75     ],\n",
       "       [  3.812498 ,  15.062498 ,  26.312498 , ..., 330.0625   ,\n",
       "        341.3125   , 352.5625   ],\n",
       "       ...,\n",
       "       [  2.9374971,  14.187497 ,  25.437496 , ..., 329.1875   ,\n",
       "        340.4375   , 351.6875   ],\n",
       "       [  5.749997 ,  16.999996 ,  28.249996 , ..., 332.       ,\n",
       "        343.25     , 354.5      ],\n",
       "       [  8.49999  ,  19.74999  ,  30.99999  , ..., 334.75     ,\n",
       "        346.       , 357.25     ]], dtype=float32)</pre></div></li><li class='xr-var-item'><div class='xr-var-name'><span>v2</span></div><div class='xr-var-dims'>(v2_dim)</div><div class='xr-var-dtype'>float32</div><div class='xr-var-preview xr-preview'>5.625 16.88 28.12 ... 163.1 174.4</div><input id='attrs-385f6062-3a51-45c3-a441-0966d3f8a003' class='xr-var-attrs-in' type='checkbox' disabled><label for='attrs-385f6062-3a51-45c3-a441-0966d3f8a003' title='Show/Hide attributes'><svg class='icon xr-icon-file-text2'><use xlink:href='#icon-file-text2'></use></svg></label><input id='data-9fdd780f-854a-4cd6-a1f3-e86553215810' class='xr-var-data-in' type='checkbox'><label for='data-9fdd780f-854a-4cd6-a1f3-e86553215810' title='Show/Hide data repr'><svg class='icon xr-icon-database'><use xlink:href='#icon-database'></use></svg></label><div class='xr-var-attrs'><dl class='xr-attrs'></dl></div><div class='xr-var-data'><pre>array([  5.625,  16.875,  28.125,  39.375,  50.625,  61.875,  73.125,\n",
       "        84.375,  95.625, 106.875, 118.125, 129.375, 140.625, 151.875,\n",
       "       163.125, 174.375], dtype=float32)</pre></div></li><li class='xr-var-item'><div class='xr-var-name'><span>v3</span></div><div class='xr-var-dims'>(time, v3_dim)</div><div class='xr-var-dtype'>float32</div><div class='xr-var-preview xr-preview'>12.06 15.49 ... 1.944e+04 2.497e+04</div><input id='attrs-528221bf-d6ba-40b2-ad95-08d7d668fd78' class='xr-var-attrs-in' type='checkbox' disabled><label for='attrs-528221bf-d6ba-40b2-ad95-08d7d668fd78' title='Show/Hide attributes'><svg class='icon xr-icon-file-text2'><use xlink:href='#icon-file-text2'></use></svg></label><input id='data-87974903-80fe-4928-9bb9-94326284200d' class='xr-var-data-in' type='checkbox'><label for='data-87974903-80fe-4928-9bb9-94326284200d' title='Show/Hide data repr'><svg class='icon xr-icon-database'><use xlink:href='#icon-database'></use></svg></label><div class='xr-var-attrs'><dl class='xr-attrs'></dl></div><div class='xr-var-data'><pre>array([[1.206000e+01, 1.549000e+01, 1.989000e+01, ..., 1.715373e+04,\n",
       "        2.203368e+04, 2.830189e+04],\n",
       "       [1.064000e+01, 1.366000e+01, 1.755000e+01, ..., 1.513542e+04,\n",
       "        1.944119e+04, 2.497188e+04],\n",
       "       [1.206000e+01, 1.549000e+01, 1.989000e+01, ..., 1.715373e+04,\n",
       "        2.203368e+04, 2.830189e+04],\n",
       "       ...,\n",
       "       [1.064000e+01, 1.366000e+01, 1.755000e+01, ..., 1.513542e+04,\n",
       "        1.944119e+04, 2.497188e+04],\n",
       "       [1.206000e+01, 1.549000e+01, 1.989000e+01, ..., 1.715373e+04,\n",
       "        2.203368e+04, 2.830189e+04],\n",
       "       [1.064000e+01, 1.366000e+01, 1.755000e+01, ..., 1.513542e+04,\n",
       "        1.944119e+04, 2.497188e+04]], dtype=float32)</pre></div></li></ul></div></li><li class='xr-section-item'><input id='section-ae3d833b-c335-463c-9ac3-023581d16c8c' class='xr-section-summary-in' type='checkbox'  ><label for='section-ae3d833b-c335-463c-9ac3-023581d16c8c' class='xr-section-summary' >Indexes: <span>(1)</span></label><div class='xr-section-inline-details'></div><div class='xr-section-details'><ul class='xr-var-list'><li class='xr-var-item'><div class='xr-index-name'><div>time</div></div><div class='xr-index-preview'>PandasIndex</div><div></div><input id='index-606e8982-c5bb-4dc9-b510-3004684be09a' class='xr-index-data-in' type='checkbox'/><label for='index-606e8982-c5bb-4dc9-b510-3004684be09a' title='Show/Hide index repr'><svg class='icon xr-icon-database'><use xlink:href='#icon-database'></use></svg></label><div class='xr-index-data'><pre>PandasIndex(DatetimeIndex([&#x27;2015-10-16 13:03:34.033868&#x27;, &#x27;2015-10-16 13:03:34.183868&#x27;,\n",
       "               &#x27;2015-10-16 13:03:34.333868&#x27;, &#x27;2015-10-16 13:03:34.483868&#x27;,\n",
       "               &#x27;2015-10-16 13:03:34.633868&#x27;, &#x27;2015-10-16 13:03:34.783868&#x27;,\n",
       "               &#x27;2015-10-16 13:03:34.933868&#x27;, &#x27;2015-10-16 13:03:35.083875&#x27;,\n",
       "               &#x27;2015-10-16 13:03:35.233875&#x27;, &#x27;2015-10-16 13:03:35.383875&#x27;,\n",
       "               ...\n",
       "               &#x27;2015-10-16 13:07:42.435592&#x27;, &#x27;2015-10-16 13:07:42.585592&#x27;,\n",
       "               &#x27;2015-10-16 13:07:42.735592&#x27;, &#x27;2015-10-16 13:07:42.885592&#x27;,\n",
       "               &#x27;2015-10-16 13:07:43.035598&#x27;, &#x27;2015-10-16 13:07:43.185598&#x27;,\n",
       "               &#x27;2015-10-16 13:07:43.335598&#x27;, &#x27;2015-10-16 13:07:43.485598&#x27;,\n",
       "               &#x27;2015-10-16 13:07:43.635598&#x27;, &#x27;2015-10-16 13:07:43.785598&#x27;],\n",
       "              dtype=&#x27;datetime64[ns]&#x27;, name=&#x27;time&#x27;, length=1531, freq=None))</pre></div></li></ul></div></li><li class='xr-section-item'><input id='section-e0623807-fc22-47af-bcec-b0dbcbb354c6' class='xr-section-summary-in' type='checkbox'  checked><label for='section-e0623807-fc22-47af-bcec-b0dbcbb354c6' class='xr-section-summary' >Attributes: <span>(2)</span></label><div class='xr-section-inline-details'></div><div class='xr-section-details'><dl class='xr-attrs'><dt><span>CDF :</span></dt><dd>{&#x27;VATT&#x27;: {&#x27;CATDESC&#x27;: &#x27;MMS1 FPI/DIS burst sky-map instrument distribution&#x27;, &#x27;DEPEND_0&#x27;: &#x27;Epoch&#x27;, &#x27;DEPEND_1&#x27;: &#x27;mms1_dis_phi_brst&#x27;, &#x27;DEPEND_2&#x27;: &#x27;mms1_dis_theta_brst&#x27;, &#x27;DEPEND_3&#x27;: &#x27;mms1_dis_energy_brst&#x27;, &#x27;DISPLAY_TYPE&#x27;: &#x27;spectrogram&#x27;, &#x27;FIELDNAM&#x27;: &#x27;MMS1 FPI/DIS brstSkyMap dist&#x27;, &#x27;FILLVAL&#x27;: -1e+31, &#x27;FORMAT&#x27;: &#x27;E12.2&#x27;, &#x27;LABL_PTR_1&#x27;: &#x27;mms1_dis_sector_label_brst&#x27;, &#x27;LABL_PTR_2&#x27;: &#x27;mms1_dis_pixel_label_brst&#x27;, &#x27;LABL_PTR_3&#x27;: &#x27;mms1_dis_energy_label_brst&#x27;, &#x27;SCALETYP&#x27;: &#x27;log&#x27;, &#x27;SI_CONVERSION&#x27;: &#x27;1e12&gt;s^3 m^-6&#x27;, &#x27;UNITS&#x27;: &#x27;s^3/cm^6&#x27;, &#x27;VALIDMIN&#x27;: 0.0, &#x27;VALIDMAX&#x27;: 1e+30, &#x27;VAR_NOTES&#x27;: &#x27;Az bin: sector ind=00 looks &quot;after&quot; (spin-phase) Sun, ..., sector ind=31 looks &quot;before&quot; Sun dir.  Head field-of-view: pixel index=00 looks to zenith, ..., pixel index=15 looks to nadir.  FPI operations nominally bin data from 64 energy filters into 32 pairwise energy bins, indexed 0-31.  Nominally, bins are indexed in increasing energy order.  See FPI docs for details.&#x27;, &#x27;VAR_TYPE&#x27;: &#x27;data&#x27;}, &#x27;GATT&#x27;: {&#x27;Project&#x27;: &#x27;STP&gt;Solar-Terrestrial Physics&#x27;, &#x27;Source_name&#x27;: &#x27;MMS1&gt;MMS Satellite Number 1&#x27;, &#x27;Discipline&#x27;: &#x27;Space Physics&gt;Magnetospheric Science&#x27;, &#x27;Data_type&#x27;: &#x27;brst_l2_dis-dist&#x27;, &#x27;Descriptor&#x27;: &#x27;DIS&gt;Dual Ion Spectrometers&#x27;, &#x27;File_naming_convention&#x27;: &#x27;source_discriptor_datatype_yyyyMMddHHmmss&#x27;, &#x27;Data_version&#x27;: &#x27;3.3.0&#x27;, &#x27;PI_name&#x27;: &#x27;J. Burch, B. Giles&#x27;, &#x27;PI_affiliation&#x27;: &#x27;SwRI, GSFC&#x27;, &#x27;TEXT&#x27;: &#x27;FPI usually operates in Fast Survey Mode in the MMS Region Of Interest (ROI) for the current Mission Phase.  Data are taken at burst (30/150 ms for DES/DIS) resolution in this mode.  Data are also made available at survey (4.5 s, etc) resolution; these form a separate product from this.  Per mission design, not all burst-resolution data are downlinked.  This product contains phase-space distribution maps of those burst-resolution data selected for downlink.  In particular, the (highest possible quality at the time of release) corrected/converted &quot;Burst SkyMap&quot; distributions are reported with time-stamps and other annotation characterizing the state of the instrument system at the indicated time.&#x27;, &#x27;Instrument_type&#x27;: [&#x27;Plasma and Solar Wind&#x27;, &#x27;Particles (space)&#x27;], &#x27;Mission_group&#x27;: &#x27;MMS&#x27;, &#x27;Logical_source&#x27;: &#x27;mms1_fpi_brst_l2_dis-dist&#x27;, &#x27;Logical_file_id&#x27;: &#x27;mms1_fpi_brst_l2_dis-dist_20151016130524_v3.3.0&#x27;, &#x27;Logical_source_description&#x27;: &#x27;MMS Satellite Number 1 Dual Ion Spectrometer Burst-resolution instrument distributions&#x27;, &#x27;Time_resolution&#x27;: &#x27;150 milliseconds&#x27;, &#x27;Rules_of_use&#x27;: &#x27;See FPI Version Release Notes (https://lasp.colorado.edu/mms/sdc/public/datasets/fpi/) for rules of use.&#x27;, &#x27;Generated_by&#x27;: &#x27;FPI ITF, NASA/GSFC Code 673&#x27;, &#x27;Generation_date&#x27;: &#x27;Wed Feb  7 15:38:25 2018&#x27;, &#x27;MODS&#x27;: &#x27;See FPI Version Release Notes (https://lasp.colorado.edu/mms/sdc/public/datasets/fpi/) for data set modification history.&#x27;, &#x27;LINK_TEXT&#x27;: [&#x27;MMS home page&#x27;, &#x27;SMART package home page&#x27;, &#x27;Science Data Center&#x27;, &#x27;FPI overview&#x27;], &#x27;LINK_TITLE&#x27;: [&#x27;at GSFC&#x27;, &#x27;at SWRI&#x27;, &#x27;at LASP&#x27;, &#x27;at NASA&#x27;], &#x27;HTTP_LINK&#x27;: [&#x27;http://mms.gsfc.nasa.gov&#x27;, &#x27;http://mms.space.swri.edu&#x27;, &#x27;http://lasp.colorado.edu/mms/sdc&#x27;, &#x27;http://www.nasa.gov/mission_pages/mms/spacecraft/instruments.html#fpi&#x27;], &#x27;Skeleton_version&#x27;: &#x27;$Revision: 8070 $&#x27;, &#x27;Skeleton_revdate&#x27;: &#x27;$Date: 2017-06-09 17:07:47 -0400 (Fri, 09 Jun 2017) $&#x27;, &#x27;Correction_table_name&#x27;: &#x27;mms1_dis_f1ct_v21-0211_0222_p0.txt mms1_dis_f1ct_v21-0211_0222_p1.txt&#x27;, &#x27;Correction_table_rev&#x27;: &#x27;7825&#x27;, &#x27;Energy_table_name&#x27;: &#x27;energies_dis_0-2.txt&#x27;, &#x27;Dead_time_correction&#x27;: &#x27;100 ns&#x27;, &#x27;Correction_table_scaling_factor&#x27;: &#x27;1.00000&#x27;}, &#x27;FILENAME&#x27;: &#x27;pydata/mms1/fpi/brst/l2/dis-dist/2015/10/16/mms1_fpi_brst_l2_dis-dist_20151016130524_v3.3.0.cdf&#x27;, &#x27;LABELS&#x27;: [&#x27;sector00&#x27;, &#x27;sector01&#x27;, &#x27;sector02&#x27;, &#x27;sector03&#x27;, &#x27;sector04&#x27;, &#x27;sector05&#x27;, &#x27;sector06&#x27;, &#x27;sector07&#x27;, &#x27;sector08&#x27;, &#x27;sector09&#x27;, &#x27;sector10&#x27;, &#x27;sector11&#x27;, &#x27;sector12&#x27;, &#x27;sector13&#x27;, &#x27;sector14&#x27;, &#x27;sector15&#x27;, &#x27;sector16&#x27;, &#x27;sector17&#x27;, &#x27;sector18&#x27;, &#x27;sector19&#x27;, &#x27;sector20&#x27;, &#x27;sector21&#x27;, &#x27;sector22&#x27;, &#x27;sector23&#x27;, &#x27;sector24&#x27;, &#x27;sector25&#x27;, &#x27;sector26&#x27;, &#x27;sector27&#x27;, &#x27;sector28&#x27;, &#x27;sector29&#x27;, &#x27;sector30&#x27;, &#x27;sector31&#x27;]}</dd><dt><span>plot_options :</span></dt><dd>{&#x27;xaxis_opt&#x27;: {&#x27;axis_label&#x27;: &#x27;Time&#x27;, &#x27;crosshair&#x27;: &#x27;X&#x27;, &#x27;x_axis_type&#x27;: &#x27;linear&#x27;}, &#x27;yaxis_opt&#x27;: {&#x27;axis_label&#x27;: &#x27;&#x27;, &#x27;crosshair&#x27;: &#x27;Y&#x27;, &#x27;y_axis_type&#x27;: &#x27;linear&#x27;, &#x27;y_range&#x27;: [5.625, 174.375], &#x27;axis_subtitle&#x27;: &#x27;[deg]&#x27;}, &#x27;zaxis_opt&#x27;: {&#x27;axis_label&#x27;: &#x27;[s^3/cm^6]&#x27;, &#x27;crosshair&#x27;: &#x27;Z&#x27;, &#x27;z_axis_type&#x27;: &#x27;log&#x27;}, &#x27;line_opt&#x27;: {}, &#x27;trange&#x27;: [datetime.datetime(2015, 10, 16, 13, 3, 34, 33868), datetime.datetime(2015, 10, 16, 13, 7, 43, 785598)], &#x27;time_bar&#x27;: [], &#x27;extras&#x27;: {&#x27;panel_size&#x27;: 1, &#x27;border&#x27;: True, &#x27;spec&#x27;: 1, &#x27;alt&#x27;: 0, &#x27;map&#x27;: 0, &#x27;plotter&#x27;: None, &#x27;spec_dim_to_plot&#x27;: &#x27;v2&#x27;}, &#x27;create_time&#x27;: datetime.datetime(2023, 1, 10, 22, 53, 43, 646627), &#x27;links&#x27;: {}, &#x27;spec_bins_ascending&#x27;: True, &#x27;overplots&#x27;: [], &#x27;interactive_xaxis_opt&#x27;: {}, &#x27;interactive_yaxis_opt&#x27;: {}, &#x27;error&#x27;: None}</dd></dl></div></li></ul></div></div>"
      ]
     },
     "metadata": {},
     "execution_count": 13
    }
   ]
  },
  {
   "cell_type": "markdown",
   "source": [
    "## Ability to convert to other common time series objects (e.g. pandas.DataFrame)\n",
    "\n",
    "The `xarray` DataArray for the bulk velocity data:"
   ],
   "metadata": {
    "id": "oLs6d4Ri7Vna"
   }
  },
  {
   "cell_type": "code",
   "source": [
    "xrbulkv = get_data('mms1_dis_bulkv_gse_brst', xarray=True)"
   ],
   "metadata": {
    "id": "AYwKS2mF7ZUD"
   },
   "execution_count": null,
   "outputs": []
  },
  {
   "cell_type": "code",
   "source": [
    "pandas_bulkv = xrbulkv.to_pandas()"
   ],
   "metadata": {
    "id": "s0-HEQJC7MnS"
   },
   "execution_count": null,
   "outputs": []
  },
  {
   "cell_type": "code",
   "source": [
    "pandas_bulkv"
   ],
   "metadata": {
    "colab": {
     "base_uri": "https://localhost:8080/",
     "height": 455
    },
    "id": "Vrq3pmzl7l-k",
    "outputId": "e753e3bc-2afc-4c97-a5c2-dc02cc840bfb"
   },
   "execution_count": null,
   "outputs": [
    {
     "output_type": "execute_result",
     "data": {
      "text/plain": [
       "v_dim                                0           1          2\n",
       "time                                                         \n",
       "2015-10-16 13:03:34.033868   16.787725   44.732758  -4.006111\n",
       "2015-10-16 13:03:34.183868  -13.278414   27.278732 -24.978951\n",
       "2015-10-16 13:03:34.333868   -8.596485   50.468029 -18.141851\n",
       "2015-10-16 13:03:34.483868   16.211563   62.125938  -2.751714\n",
       "2015-10-16 13:03:34.633868   16.194830   34.393234  -0.694268\n",
       "...                                ...         ...        ...\n",
       "2015-10-16 13:07:43.185598 -166.930237  107.481194 -19.305483\n",
       "2015-10-16 13:07:43.335598 -162.216476  105.852036 -20.874670\n",
       "2015-10-16 13:07:43.485598 -164.943756  105.786499 -20.113689\n",
       "2015-10-16 13:07:43.635598 -164.210678  104.270462 -17.082964\n",
       "2015-10-16 13:07:43.785598 -161.231567   98.781708 -17.270777\n",
       "\n",
       "[1531 rows x 3 columns]"
      ],
      "text/html": [
       "\n",
       "  <div id=\"df-786a0b85-c0be-4fba-b51f-dad992dccd1a\">\n",
       "    <div class=\"colab-df-container\">\n",
       "      <div>\n",
       "<style scoped>\n",
       "    .dataframe tbody tr th:only-of-type {\n",
       "        vertical-align: middle;\n",
       "    }\n",
       "\n",
       "    .dataframe tbody tr th {\n",
       "        vertical-align: top;\n",
       "    }\n",
       "\n",
       "    .dataframe thead th {\n",
       "        text-align: right;\n",
       "    }\n",
       "</style>\n",
       "<table border=\"1\" class=\"dataframe\">\n",
       "  <thead>\n",
       "    <tr style=\"text-align: right;\">\n",
       "      <th>v_dim</th>\n",
       "      <th>0</th>\n",
       "      <th>1</th>\n",
       "      <th>2</th>\n",
       "    </tr>\n",
       "    <tr>\n",
       "      <th>time</th>\n",
       "      <th></th>\n",
       "      <th></th>\n",
       "      <th></th>\n",
       "    </tr>\n",
       "  </thead>\n",
       "  <tbody>\n",
       "    <tr>\n",
       "      <th>2015-10-16 13:03:34.033868</th>\n",
       "      <td>16.787725</td>\n",
       "      <td>44.732758</td>\n",
       "      <td>-4.006111</td>\n",
       "    </tr>\n",
       "    <tr>\n",
       "      <th>2015-10-16 13:03:34.183868</th>\n",
       "      <td>-13.278414</td>\n",
       "      <td>27.278732</td>\n",
       "      <td>-24.978951</td>\n",
       "    </tr>\n",
       "    <tr>\n",
       "      <th>2015-10-16 13:03:34.333868</th>\n",
       "      <td>-8.596485</td>\n",
       "      <td>50.468029</td>\n",
       "      <td>-18.141851</td>\n",
       "    </tr>\n",
       "    <tr>\n",
       "      <th>2015-10-16 13:03:34.483868</th>\n",
       "      <td>16.211563</td>\n",
       "      <td>62.125938</td>\n",
       "      <td>-2.751714</td>\n",
       "    </tr>\n",
       "    <tr>\n",
       "      <th>2015-10-16 13:03:34.633868</th>\n",
       "      <td>16.194830</td>\n",
       "      <td>34.393234</td>\n",
       "      <td>-0.694268</td>\n",
       "    </tr>\n",
       "    <tr>\n",
       "      <th>...</th>\n",
       "      <td>...</td>\n",
       "      <td>...</td>\n",
       "      <td>...</td>\n",
       "    </tr>\n",
       "    <tr>\n",
       "      <th>2015-10-16 13:07:43.185598</th>\n",
       "      <td>-166.930237</td>\n",
       "      <td>107.481194</td>\n",
       "      <td>-19.305483</td>\n",
       "    </tr>\n",
       "    <tr>\n",
       "      <th>2015-10-16 13:07:43.335598</th>\n",
       "      <td>-162.216476</td>\n",
       "      <td>105.852036</td>\n",
       "      <td>-20.874670</td>\n",
       "    </tr>\n",
       "    <tr>\n",
       "      <th>2015-10-16 13:07:43.485598</th>\n",
       "      <td>-164.943756</td>\n",
       "      <td>105.786499</td>\n",
       "      <td>-20.113689</td>\n",
       "    </tr>\n",
       "    <tr>\n",
       "      <th>2015-10-16 13:07:43.635598</th>\n",
       "      <td>-164.210678</td>\n",
       "      <td>104.270462</td>\n",
       "      <td>-17.082964</td>\n",
       "    </tr>\n",
       "    <tr>\n",
       "      <th>2015-10-16 13:07:43.785598</th>\n",
       "      <td>-161.231567</td>\n",
       "      <td>98.781708</td>\n",
       "      <td>-17.270777</td>\n",
       "    </tr>\n",
       "  </tbody>\n",
       "</table>\n",
       "<p>1531 rows × 3 columns</p>\n",
       "</div>\n",
       "      <button class=\"colab-df-convert\" onclick=\"convertToInteractive('df-786a0b85-c0be-4fba-b51f-dad992dccd1a')\"\n",
       "              title=\"Convert this dataframe to an interactive table.\"\n",
       "              style=\"display:none;\">\n",
       "        \n",
       "  <svg xmlns=\"http://www.w3.org/2000/svg\" height=\"24px\"viewBox=\"0 0 24 24\"\n",
       "       width=\"24px\">\n",
       "    <path d=\"M0 0h24v24H0V0z\" fill=\"none\"/>\n",
       "    <path d=\"M18.56 5.44l.94 2.06.94-2.06 2.06-.94-2.06-.94-.94-2.06-.94 2.06-2.06.94zm-11 1L8.5 8.5l.94-2.06 2.06-.94-2.06-.94L8.5 2.5l-.94 2.06-2.06.94zm10 10l.94 2.06.94-2.06 2.06-.94-2.06-.94-.94-2.06-.94 2.06-2.06.94z\"/><path d=\"M17.41 7.96l-1.37-1.37c-.4-.4-.92-.59-1.43-.59-.52 0-1.04.2-1.43.59L10.3 9.45l-7.72 7.72c-.78.78-.78 2.05 0 2.83L4 21.41c.39.39.9.59 1.41.59.51 0 1.02-.2 1.41-.59l7.78-7.78 2.81-2.81c.8-.78.8-2.07 0-2.86zM5.41 20L4 18.59l7.72-7.72 1.47 1.35L5.41 20z\"/>\n",
       "  </svg>\n",
       "      </button>\n",
       "      \n",
       "  <style>\n",
       "    .colab-df-container {\n",
       "      display:flex;\n",
       "      flex-wrap:wrap;\n",
       "      gap: 12px;\n",
       "    }\n",
       "\n",
       "    .colab-df-convert {\n",
       "      background-color: #E8F0FE;\n",
       "      border: none;\n",
       "      border-radius: 50%;\n",
       "      cursor: pointer;\n",
       "      display: none;\n",
       "      fill: #1967D2;\n",
       "      height: 32px;\n",
       "      padding: 0 0 0 0;\n",
       "      width: 32px;\n",
       "    }\n",
       "\n",
       "    .colab-df-convert:hover {\n",
       "      background-color: #E2EBFA;\n",
       "      box-shadow: 0px 1px 2px rgba(60, 64, 67, 0.3), 0px 1px 3px 1px rgba(60, 64, 67, 0.15);\n",
       "      fill: #174EA6;\n",
       "    }\n",
       "\n",
       "    [theme=dark] .colab-df-convert {\n",
       "      background-color: #3B4455;\n",
       "      fill: #D2E3FC;\n",
       "    }\n",
       "\n",
       "    [theme=dark] .colab-df-convert:hover {\n",
       "      background-color: #434B5C;\n",
       "      box-shadow: 0px 1px 3px 1px rgba(0, 0, 0, 0.15);\n",
       "      filter: drop-shadow(0px 1px 2px rgba(0, 0, 0, 0.3));\n",
       "      fill: #FFFFFF;\n",
       "    }\n",
       "  </style>\n",
       "\n",
       "      <script>\n",
       "        const buttonEl =\n",
       "          document.querySelector('#df-786a0b85-c0be-4fba-b51f-dad992dccd1a button.colab-df-convert');\n",
       "        buttonEl.style.display =\n",
       "          google.colab.kernel.accessAllowed ? 'block' : 'none';\n",
       "\n",
       "        async function convertToInteractive(key) {\n",
       "          const element = document.querySelector('#df-786a0b85-c0be-4fba-b51f-dad992dccd1a');\n",
       "          const dataTable =\n",
       "            await google.colab.kernel.invokeFunction('convertToInteractive',\n",
       "                                                     [key], {});\n",
       "          if (!dataTable) return;\n",
       "\n",
       "          const docLinkHtml = 'Like what you see? Visit the ' +\n",
       "            '<a target=\"_blank\" href=https://colab.research.google.com/notebooks/data_table.ipynb>data table notebook</a>'\n",
       "            + ' to learn more about interactive tables.';\n",
       "          element.innerHTML = '';\n",
       "          dataTable['output_type'] = 'display_data';\n",
       "          await google.colab.output.renderOutput(dataTable, element);\n",
       "          const docLink = document.createElement('div');\n",
       "          docLink.innerHTML = docLinkHtml;\n",
       "          element.appendChild(docLink);\n",
       "        }\n",
       "      </script>\n",
       "    </div>\n",
       "  </div>\n",
       "  "
      ]
     },
     "metadata": {},
     "execution_count": 41
    }
   ]
  },
  {
   "cell_type": "markdown",
   "source": [
    "## Store metadata alongside actual data"
   ],
   "metadata": {
    "id": "kSI3JzyD19yG"
   }
  },
  {
   "cell_type": "markdown",
   "source": [
    "You can also access the metadata of a tplot variable using `get_data`:"
   ],
   "metadata": {
    "id": "cEhSSlKm019C"
   }
  },
  {
   "cell_type": "code",
   "source": [
    "metadata = get_data('mms1_dis_dist_brst', metadata=True)"
   ],
   "metadata": {
    "id": "5BmcHTgW00p_"
   },
   "execution_count": null,
   "outputs": []
  },
  {
   "cell_type": "markdown",
   "source": [
    "This is just a dictionary, containing the CDF and plot metadata:"
   ],
   "metadata": {
    "id": "0oYb-esR1AMn"
   }
  },
  {
   "cell_type": "code",
   "source": [
    "metadata.keys()"
   ],
   "metadata": {
    "colab": {
     "base_uri": "https://localhost:8080/"
    },
    "id": "G--NH5uW07Hf",
    "outputId": "21fab9ea-5c72-4577-b538-198e34186163"
   },
   "execution_count": null,
   "outputs": [
    {
     "output_type": "execute_result",
     "data": {
      "text/plain": [
       "dict_keys(['CDF', 'plot_options'])"
      ]
     },
     "metadata": {},
     "execution_count": 15
    }
   ]
  },
  {
   "cell_type": "markdown",
   "source": [
    "So to get the CDF metadata for our DF variable:"
   ],
   "metadata": {
    "id": "ysaAd0ay1GeW"
   }
  },
  {
   "cell_type": "code",
   "source": [
    "metadata['CDF']['VATT']"
   ],
   "metadata": {
    "colab": {
     "base_uri": "https://localhost:8080/"
    },
    "id": "QnWTsFll1DIx",
    "outputId": "76436b42-a67f-425c-f357-805e50acedd9"
   },
   "execution_count": null,
   "outputs": [
    {
     "output_type": "execute_result",
     "data": {
      "text/plain": [
       "{'CATDESC': 'MMS1 FPI/DIS burst sky-map instrument distribution',\n",
       " 'DEPEND_0': 'Epoch',\n",
       " 'DEPEND_1': 'mms1_dis_phi_brst',\n",
       " 'DEPEND_2': 'mms1_dis_theta_brst',\n",
       " 'DEPEND_3': 'mms1_dis_energy_brst',\n",
       " 'DISPLAY_TYPE': 'spectrogram',\n",
       " 'FIELDNAM': 'MMS1 FPI/DIS brstSkyMap dist',\n",
       " 'FILLVAL': -1e+31,\n",
       " 'FORMAT': 'E12.2',\n",
       " 'LABL_PTR_1': 'mms1_dis_sector_label_brst',\n",
       " 'LABL_PTR_2': 'mms1_dis_pixel_label_brst',\n",
       " 'LABL_PTR_3': 'mms1_dis_energy_label_brst',\n",
       " 'SCALETYP': 'log',\n",
       " 'SI_CONVERSION': '1e12>s^3 m^-6',\n",
       " 'UNITS': 's^3/cm^6',\n",
       " 'VALIDMIN': 0.0,\n",
       " 'VALIDMAX': 1e+30,\n",
       " 'VAR_NOTES': 'Az bin: sector ind=00 looks \"after\" (spin-phase) Sun, ..., sector ind=31 looks \"before\" Sun dir.  Head field-of-view: pixel index=00 looks to zenith, ..., pixel index=15 looks to nadir.  FPI operations nominally bin data from 64 energy filters into 32 pairwise energy bins, indexed 0-31.  Nominally, bins are indexed in increasing energy order.  See FPI docs for details.',\n",
       " 'VAR_TYPE': 'data'}"
      ]
     },
     "metadata": {},
     "execution_count": 16
    }
   ]
  },
  {
   "cell_type": "markdown",
   "source": [
    "## Have a way to store an observer coordinate alongside the time index (?)"
   ],
   "metadata": {
    "id": "VrIAbaLz2BQD"
   }
  },
  {
   "cell_type": "markdown",
   "source": [
    "If the CDF metadata includes a coordinate system (which this one doesn't), it'll be available using `cotrans_get_coord`"
   ],
   "metadata": {
    "id": "73AMSVr41OxL"
   }
  },
  {
   "cell_type": "code",
   "source": [
    "from pyspedas.cotrans.cotrans_get_coord import cotrans_get_coord"
   ],
   "metadata": {
    "id": "Tgo6OA2k0VU7"
   },
   "execution_count": null,
   "outputs": []
  },
  {
   "cell_type": "code",
   "source": [
    "cotrans_get_coord('mms1_dis_dist_brst')"
   ],
   "metadata": {
    "colab": {
     "base_uri": "https://localhost:8080/"
    },
    "id": "khuynBUu0rVP",
    "outputId": "32774e6b-1574-470c-b06f-34ebcf696e73"
   },
   "execution_count": null,
   "outputs": [
    {
     "output_type": "stream",
     "name": "stderr",
     "text": [
      "10-Jan-23 22:53:56: Coordinate system not found: mms1_dis_dist_brst\n"
     ]
    }
   ]
  },
  {
   "cell_type": "markdown",
   "source": [
    "You can set it with `cotrans_set_coord`"
   ],
   "metadata": {
    "id": "rVhV1NGP1V4S"
   }
  },
  {
   "cell_type": "code",
   "source": [
    "from pyspedas.cotrans.cotrans_set_coord import cotrans_set_coord"
   ],
   "metadata": {
    "id": "dQAE3KSn0vWR"
   },
   "execution_count": null,
   "outputs": []
  },
  {
   "cell_type": "code",
   "source": [
    "cotrans_set_coord('mms1_dis_dist_brst', 'DBCS')"
   ],
   "metadata": {
    "colab": {
     "base_uri": "https://localhost:8080/"
    },
    "id": "3yuty5Lj1bST",
    "outputId": "82502164-0adc-419a-8fe7-901ded6c8065"
   },
   "execution_count": null,
   "outputs": [
    {
     "output_type": "execute_result",
     "data": {
      "text/plain": [
       "True"
      ]
     },
     "metadata": {},
     "execution_count": 20
    }
   ]
  },
  {
   "cell_type": "markdown",
   "source": [
    "And now it's available:"
   ],
   "metadata": {
    "id": "vW8nNYAe1fhU"
   }
  },
  {
   "cell_type": "code",
   "source": [
    "cotrans_get_coord('mms1_dis_dist_brst')"
   ],
   "metadata": {
    "colab": {
     "base_uri": "https://localhost:8080/",
     "height": 36
    },
    "id": "KJh8sX-m1dvd",
    "outputId": "b0635217-714e-4efa-e74c-40397ee4531d"
   },
   "execution_count": null,
   "outputs": [
    {
     "output_type": "execute_result",
     "data": {
      "text/plain": [
       "'DBCS'"
      ],
      "application/vnd.google.colaboratory.intrinsic+json": {
       "type": "string"
      }
     },
     "metadata": {},
     "execution_count": 21
    }
   ]
  },
  {
   "cell_type": "markdown",
   "source": [
    "## Have an easy way to do common data manipulation tasks\n",
    "\n",
    "Storing data in `tplot` variables makes implementing routines for common data manipulation tasks easy, e.g., to interpolate our FPI data to the electric field data:"
   ],
   "metadata": {
    "id": "ihp4ph0k1saX"
   }
  },
  {
   "cell_type": "code",
   "source": [
    "pyspedas.mms.edp(trange=['2015-10-16/13:05', '2015-10-16/13:06'], data_rate='brst')"
   ],
   "metadata": {
    "colab": {
     "base_uri": "https://localhost:8080/"
    },
    "id": "9IAJUf5K3TF0",
    "outputId": "90ec2a33-fffd-4027-edde-4630b641d110"
   },
   "execution_count": null,
   "outputs": [
    {
     "output_type": "stream",
     "name": "stderr",
     "text": [
      "10-Jan-23 22:53:56: Loading pydata/mms1/edp/brst/l2/dce/2015/10/16/mms1_edp_brst_l2_dce_20151016130334_v2.2.0.cdf\n",
      "10-Jan-23 22:53:56: Loading pydata/mms1/edp/brst/l2/dce/2015/10/16/mms1_edp_brst_l2_dce_20151016130524_v2.2.0.cdf\n",
      "10-Jan-23 22:54:06: Time clip was applied to: mms1_edp_dce_gse_brst_l2\n",
      "10-Jan-23 22:54:09: Time clip was applied to: mms1_edp_dce_dsl_brst_l2\n",
      "10-Jan-23 22:54:11: Time clip was applied to: mms1_edp_dce_par_epar_brst_l2\n",
      "10-Jan-23 22:54:11: Loaded variables:\n",
      "10-Jan-23 22:54:11: mms1_edp_dce_gse_brst_l2\n",
      "10-Jan-23 22:54:11: mms1_edp_dce_dsl_brst_l2\n",
      "10-Jan-23 22:54:11: mms1_edp_dce_par_epar_brst_l2\n"
     ]
    },
    {
     "output_type": "execute_result",
     "data": {
      "text/plain": [
       "['mms1_edp_dce_gse_brst_l2',\n",
       " 'mms1_edp_dce_dsl_brst_l2',\n",
       " 'mms1_edp_dce_par_epar_brst_l2']"
      ]
     },
     "metadata": {},
     "execution_count": 22
    }
   ]
  },
  {
   "cell_type": "markdown",
   "source": [
    "Interpolate the electric field data to the bulk velocity:"
   ],
   "metadata": {
    "id": "QlsvzPCu5POu"
   }
  },
  {
   "cell_type": "code",
   "source": [
    "from pyspedas import tinterpol"
   ],
   "metadata": {
    "id": "1nEUIamx1fFz"
   },
   "execution_count": null,
   "outputs": []
  },
  {
   "cell_type": "code",
   "source": [
    "tinterpol('mms1_edp_dce_gse_brst_l2', 'mms1_dis_bulkv_gse_brst')"
   ],
   "metadata": {
    "colab": {
     "base_uri": "https://localhost:8080/"
    },
    "id": "pLzVgnAh3PKe",
    "outputId": "cf0d3b94-4e33-4e46-a14a-10eb19225f23"
   },
   "execution_count": null,
   "outputs": [
    {
     "output_type": "stream",
     "name": "stderr",
     "text": [
      "10-Jan-23 22:55:16: tinterpol (linear) was applied to: mms1_edp_dce_gse_brst_l2-itrp\n"
     ]
    }
   ]
  },
  {
   "cell_type": "code",
   "source": [
    "new_efield = get_data('mms1_edp_dce_gse_brst_l2-itrp')"
   ],
   "metadata": {
    "id": "Ts8U1SmM5TSj"
   },
   "execution_count": null,
   "outputs": []
  },
  {
   "cell_type": "code",
   "source": [
    "new_efield.y.shape"
   ],
   "metadata": {
    "colab": {
     "base_uri": "https://localhost:8080/"
    },
    "id": "C8iWlF4f5XzW",
    "outputId": "c01e556d-adbe-41b0-c122-752d4453ce54"
   },
   "execution_count": null,
   "outputs": [
    {
     "output_type": "execute_result",
     "data": {
      "text/plain": [
       "(1531, 3)"
      ]
     },
     "metadata": {},
     "execution_count": 30
    }
   ]
  },
  {
   "cell_type": "markdown",
   "source": [
    "These should be at the same timestamps as the bulk velocity:"
   ],
   "metadata": {
    "id": "8tq-d9Ql5Zzx"
   }
  },
  {
   "cell_type": "code",
   "source": [
    "bulkv = get_data('mms1_dis_bulkv_gse_brst')\n",
    "bulkv.y.shape"
   ],
   "metadata": {
    "colab": {
     "base_uri": "https://localhost:8080/"
    },
    "id": "75vDJ3_P5dV6",
    "outputId": "d1402f42-f413-44e2-8986-07a2d6cbe301"
   },
   "execution_count": null,
   "outputs": [
    {
     "output_type": "execute_result",
     "data": {
      "text/plain": [
       "(1531, 3)"
      ]
     },
     "metadata": {},
     "execution_count": 31
    }
   ]
  },
  {
   "cell_type": "markdown",
   "source": [
    "## Have a way to combine multiple timeseries objects, and keep track of metadata\n",
    "\n",
    "You can split a tplot variable into individual components using `split_vec`, and combine them using `join_vec`, e.g., \n",
    "\n",
    "Note: keeping track of the metadata could be improved"
   ],
   "metadata": {
    "id": "cfSnmr4k4fGx"
   }
  },
  {
   "cell_type": "code",
   "source": [
    "from pytplot import join_vec, split_vec"
   ],
   "metadata": {
    "id": "MGKMAMKP4OPy"
   },
   "execution_count": null,
   "outputs": []
  },
  {
   "cell_type": "code",
   "source": [
    "split_vec('mms1_edp_dce_gse_brst_l2')"
   ],
   "metadata": {
    "colab": {
     "base_uri": "https://localhost:8080/"
    },
    "id": "rweQ1QTL4hBJ",
    "outputId": "2f538470-7393-41a7-9b0a-34b8488394cf"
   },
   "execution_count": null,
   "outputs": [
    {
     "output_type": "execute_result",
     "data": {
      "text/plain": [
       "['mms1_edp_dce_gse_brst_l2_x',\n",
       " 'mms1_edp_dce_gse_brst_l2_y',\n",
       " 'mms1_edp_dce_gse_brst_l2_z']"
      ]
     },
     "metadata": {},
     "execution_count": 26
    }
   ]
  },
  {
   "cell_type": "markdown",
   "source": [
    "Plot the individual components:"
   ],
   "metadata": {
    "id": "WekgGCjz5kVX"
   }
  },
  {
   "cell_type": "code",
   "source": [
    "from pytplot import tplot\n",
    "\n",
    "tplot(['mms1_edp_dce_gse_brst_l2_x',\n",
    "       'mms1_edp_dce_gse_brst_l2_y',\n",
    "       'mms1_edp_dce_gse_brst_l2_z'])"
   ],
   "metadata": {
    "colab": {
     "base_uri": "https://localhost:8080/",
     "height": 300
    },
    "id": "4P6Syrmq5kH0",
    "outputId": "f544042f-74fe-4898-f9fd-6c3e785476a3"
   },
   "execution_count": null,
   "outputs": [
    {
     "output_type": "display_data",
     "data": {
      "text/plain": [
       "<Figure size 864x360 with 3 Axes>"
      ],
      "image/png": "[encoded data removed]"
     },
     "metadata": {
      "needs_background": "light"
     }
    }
   ]
  },
  {
   "cell_type": "markdown",
   "source": [
    "And you can use `join_vec` to join them back together:"
   ],
   "metadata": {
    "id": "-s3i7-NS5wug"
   }
  },
  {
   "cell_type": "code",
   "source": [
    "join_vec(['mms1_edp_dce_gse_brst_l2_x',\n",
    "          'mms1_edp_dce_gse_brst_l2_y',\n",
    "          'mms1_edp_dce_gse_brst_l2_z'], new_tvar='efield_from_components')"
   ],
   "metadata": {
    "colab": {
     "base_uri": "https://localhost:8080/",
     "height": 36
    },
    "id": "0NdJXKiT5qfj",
    "outputId": "ea931aaf-565f-4d1f-bb0f-edac35e1b96c"
   },
   "execution_count": null,
   "outputs": [
    {
     "output_type": "execute_result",
     "data": {
      "text/plain": [
       "'efield_from_components'"
      ],
      "application/vnd.google.colaboratory.intrinsic+json": {
       "type": "string"
      }
     },
     "metadata": {},
     "execution_count": 34
    }
   ]
  },
  {
   "cell_type": "code",
   "source": [
    "tplot('efield_from_components')"
   ],
   "metadata": {
    "colab": {
     "base_uri": "https://localhost:8080/",
     "height": 300
    },
    "id": "06Hma8BR55S2",
    "outputId": "e931ed16-12a7-472a-a104-2913274acb45"
   },
   "execution_count": null,
   "outputs": [
    {
     "output_type": "display_data",
     "data": {
      "text/plain": [
       "<Figure size 864x360 with 1 Axes>"
      ],
      "image/png": "[encoded data removed]"
     },
     "metadata": {
      "needs_background": "light"
     }
    }
   ]
  },
  {
   "cell_type": "code",
   "source": [],
   "metadata": {
    "id": "B4-IF9AL59cb"
   },
   "execution_count": null,
   "outputs": []
  },
  {
   "cell_type": "markdown",
   "source": [
    "## Functionality for loading and saving out to common file formats\n",
    "\n",
    "PyTplot makes this simple (already contains loaders for CDFs, netCDFs, and STS files, and it's easy to add more). \n",
    "\n",
    "The examples above focus on accessing the data; to create tplot variables, remove the leap seconds and call `pytplot.store_data` to save the variables, and `pytplot.options` to set plot options on the variables. Global plot options can be set with `pytplot.tplot_options`"
   ],
   "metadata": {
    "id": "hl-ObOqE6Mm4"
   }
  },
  {
   "cell_type": "code",
   "source": [],
   "metadata": {
    "id": "N-WKlPFc6O-q"
   },
   "execution_count": null,
   "outputs": []
  }
 ]
}
